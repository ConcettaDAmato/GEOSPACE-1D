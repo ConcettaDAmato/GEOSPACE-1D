{
 "cells": [
  {
   "cell_type": "markdown",
   "metadata": {},
   "source": [
    "# _**Output SpikeII Simulation**_\n",
    "\n",
    "_Authors: Concetta D'Amato, Niccolò Tubini and Riccardo Rigon_\n",
    "\n",
    "License: Creative Commons 4.0"
   ]
  },
  {
   "cell_type": "code",
   "execution_count": null,
   "metadata": {
    "tags": []
   },
   "outputs": [],
   "source": [
    "%reload_ext autoreload\n",
    "%autoreload 2\n",
    "%matplotlib inline\n",
    "import os\n",
    "import numpy as np\n",
    "import matplotlib\n",
    "import matplotlib.pyplot as plt\n",
    "import matplotlib.dates as mdates\n",
    "import matplotlib.colors as cl \n",
    "from matplotlib import rc\n",
    "import matplotlib.style as style \n",
    "import math\n",
    "import xarray as xr\n",
    "import warnings\n",
    "import plotly.graph_objects as go\n",
    "import plotly.express as px\n",
    "\n",
    "import pandas as pd\n",
    "warnings.filterwarnings('ignore')\n",
    "style.available\n",
    "style.use('seaborn-whitegrid')\n",
    "from GEOSPACE_Output import*\n",
    "\n",
    "####### Plot settings #######\n",
    "nice_fonts = {\n",
    "    \"legend.frameon\": True, \n",
    "    \"legend.fancybox\": True, \n",
    "    \"legend.facecolor\": \"white\", \n",
    "    \"axes.edgecolor\": \"0.8\",\n",
    "    \"axes.linewidth\": 0.6,\n",
    "    \"grid.linewidth\":0.3,\n",
    "    # Use LaTeX to write all text\n",
    "    \"text.usetex\": False,\n",
    "    \"font.family\": \"serif\",\n",
    "    # Use 10pt font in plots, to match 10pt font in document\n",
    "    \"axes.labelsize\": 16,\n",
    "    \"font.size\": 16,\n",
    "    # Make the legend/label fonts a little smaller\n",
    "    \"legend.fontsize\": 12,\n",
    "    \"xtick.labelsize\": 12,\n",
    "    \"ytick.labelsize\": 12,\n",
    "}\n",
    "plt.rcParams.update(nice_fonts)\n",
    "\n",
    "project_path = os.path.dirname(os.getcwd())"
   ]
  },
  {
   "cell_type": "code",
   "execution_count": null,
   "metadata": {},
   "outputs": [],
   "source": [
    "os.chdir(project_path+'/output/SpikeII')\n",
    "#os.listdir()Java_SpikeIISoilwaterstress0203_01_0000"
   ]
  },
  {
   "cell_type": "code",
   "execution_count": null,
   "metadata": {},
   "outputs": [],
   "source": [
    "lab = '0203_01'"
   ]
  },
  {
   "cell_type": "code",
   "execution_count": null,
   "metadata": {},
   "outputs": [],
   "source": [
    "file_name = 'Java_SpikeIISoilwaterstress'+lab+'_0000.nc'"
   ]
  },
  {
   "cell_type": "code",
   "execution_count": null,
   "metadata": {
    "tags": []
   },
   "outputs": [],
   "source": [
    "ds = xr.open_dataset(file_name,engine='scipy')\n",
    "ds"
   ]
  },
  {
   "cell_type": "markdown",
   "metadata": {},
   "source": [
    "## Precipitation Timeseries"
   ]
  },
  {
   "cell_type": "code",
   "execution_count": null,
   "metadata": {},
   "outputs": [],
   "source": [
    "os.chdir(project_path+'/data/SpikeII')\n",
    "#os.listdir()"
   ]
  },
  {
   "cell_type": "code",
   "execution_count": null,
   "metadata": {},
   "outputs": [],
   "source": [
    "kl = pd.read_csv('Precip.csv' ,skiprows=6,parse_dates=[1])\n",
    "kl = kl.drop(['Format'],axis=1) \n",
    "kl.columns.values[0] = 'Date'\n",
    "kl.columns.values[1] = 'Rainfall [mm]' "
   ]
  },
  {
   "cell_type": "code",
   "execution_count": null,
   "metadata": {},
   "outputs": [],
   "source": [
    "kl2 = pd.read_csv('Irrig.csv' ,skiprows=6,parse_dates=[1])\n",
    "kl2 = kl2.drop(['Format'],axis=1) \n",
    "kl2.columns.values[0] = 'Date'\n",
    "kl2.columns.values[1] = 'Rainfall [mm]' "
   ]
  },
  {
   "cell_type": "code",
   "execution_count": null,
   "metadata": {},
   "outputs": [],
   "source": [
    "fig = px.line()\n",
    "fig.add_trace(go.Scatter(x=kl['Date'], y=kl['Rainfall [mm]'], mode='lines', name='Prec'))\n",
    "fig.add_trace(go.Scatter(x=kl2['Date'], y=kl2['Rainfall [mm]'], mode='lines', name='Irrig'))\n",
    "fig.update_layout(title= 'Prec+Irrig')\n",
    "fig.show()"
   ]
  },
  {
   "cell_type": "markdown",
   "metadata": {},
   "source": [
    "## Plot Error "
   ]
  },
  {
   "cell_type": "code",
   "execution_count": null,
   "metadata": {
    "tags": []
   },
   "outputs": [],
   "source": [
    "fig = plt.figure(figsize=(10,14/1.618))\n",
    "ax = ds.error.plot(linewidth=1.8, color='blue')\n",
    "plt.xlabel('')\n",
    "plt.ylabel('Volume error at each time step [m]') \n",
    "plt.title('Error over time')\n",
    "plt.grid(color='grey', linestyle='-', linewidth=0.3)"
   ]
  },
  {
   "cell_type": "markdown",
   "metadata": {},
   "source": [
    "## Plot Initial Condition "
   ]
  },
  {
   "cell_type": "code",
   "execution_count": null,
   "metadata": {},
   "outputs": [],
   "source": [
    "fig = plt.figure(figsize=(8,13/1.62))\n",
    "ds.psiIC.plot(y='depth')\n",
    "plt.xlabel('Water suction [m]')\n",
    "plt.title('Initial Condition')\n",
    "plt.grid(color='grey', linestyle='-', linewidth=0.3)"
   ]
  },
  {
   "cell_type": "markdown",
   "metadata": {},
   "source": [
    " ### Water suction $\\psi$ among the soil depth in your simulation  "
   ]
  },
  {
   "cell_type": "code",
   "execution_count": null,
   "metadata": {},
   "outputs": [],
   "source": [
    "fig = plt.figure(figsize=(8,13/1.62))\n",
    "ax = ds.psi.plot(y='depth', cmap='viridis',add_colorbar=False)\n",
    "plt.xlabel('Time')\n",
    "plt.ylabel('')\n",
    "plt.title('Water suction')\n",
    "cb = plt.colorbar(ax, orientation=\"vertical\",pad=0.05) # horizontal\n",
    "cb.set_label(label='$\\psi$ [m]')"
   ]
  },
  {
   "cell_type": "markdown",
   "metadata": {},
   "source": [
    "\n",
    "<br>"
   ]
  },
  {
   "cell_type": "code",
   "execution_count": null,
   "metadata": {},
   "outputs": [],
   "source": [
    "fig = plt.figure(figsize=(8,13/1.618))\n",
    "ax = ds.theta.plot(y='depth', cmap='viridis',add_colorbar=False)\n",
    "plt.xlabel('Time')\n",
    "plt.ylabel('')\n",
    "plt.title('Water content')\n",
    "cb = plt.colorbar(ax, orientation=\"vertical\",pad=0.05) # horizontal\n",
    "cb.set_label(label='$\\\\theta$ [m]')\n"
   ]
  },
  {
   "cell_type": "markdown",
   "metadata": {},
   "source": [
    "### Plot specifical depth"
   ]
  },
  {
   "cell_type": "markdown",
   "metadata": {},
   "source": [
    "Define a vector of depth 'myDepth' you would plot "
   ]
  },
  {
   "cell_type": "code",
   "execution_count": null,
   "metadata": {},
   "outputs": [],
   "source": [
    "#myDepth = [-0.25,-0.75,-1.25,-1.75]\n",
    "myDepth = [-0.10,-0.25,-0.50,-1.00,-1.50]"
   ]
  },
  {
   "cell_type": "code",
   "execution_count": null,
   "metadata": {},
   "outputs": [],
   "source": [
    "fig = plt.figure(figsize=(10,14/1.618))\n",
    "for i in range (0,len(myDepth)):\n",
    "    ds.psi.sel(depth=myDepth[i], method='nearest', time=ds.time.values[:]).plot(linewidth=1.8, label=str(myDepth[i])+' m')\n",
    "plt.ylabel('$\\psi$ [m]')\n",
    "plt.xlabel('Time')\n",
    "plt.title('Water suction')\n",
    "plt.legend(bbox_to_anchor=(1.2,0.8))\n",
    "plt.grid(color='grey', linestyle='-', linewidth=0.3)"
   ]
  },
  {
   "cell_type": "code",
   "execution_count": null,
   "metadata": {},
   "outputs": [],
   "source": [
    "fig = plt.figure(figsize=(10,14/1.618))\n",
    "for i in range (0,len(myDepth)):\n",
    "    ds.theta.where(ds.depth<0).sel(depth=myDepth[i], method='nearest', time=ds.time.values[:]).plot(linewidth=1.8, label=str(myDepth[i])+' m')\n",
    "plt.ylabel('$\\\\theta$ [-]')\n",
    "plt.xlabel('Time')\n",
    "plt.title('Water content')\n",
    "plt.legend(bbox_to_anchor=(1.4,0.8))\n",
    "plt.grid(color='grey', linestyle='-', linewidth=0.3)"
   ]
  },
  {
   "cell_type": "code",
   "execution_count": null,
   "metadata": {},
   "outputs": [],
   "source": [
    "fig = px.line()\n",
    "for i in range (0,len(myDepth)):\n",
    "    fig.add_trace(go.Scatter(x=ds.time.values[:], y=ds.theta.sel(depth=myDepth[i], method='nearest', time=ds.time.values[:]) , mode='lines', name=str(myDepth[i])+' m'))\n",
    "    \n",
    "fig.update_layout(title= 'Water Content')\n",
    "fig.show()"
   ]
  },
  {
   "cell_type": "markdown",
   "metadata": {},
   "source": [
    "### Plot specifical date\n",
    "Define a vector of date 'myDate' you would plot "
   ]
  },
  {
   "cell_type": "code",
   "execution_count": null,
   "metadata": {},
   "outputs": [],
   "source": [
    "#root_depth = -2.0\n",
    "evaporation_layer_depth = -1"
   ]
  },
  {
   "cell_type": "code",
   "execution_count": null,
   "metadata": {},
   "outputs": [],
   "source": [
    "myDate = ['2018-05-10 01:00','2018-05-20 01:00','2018-05-30 01:00','2018-06-10 01:00','2018-06-20 01:00','2018-07-01 23:00']"
   ]
  },
  {
   "cell_type": "code",
   "execution_count": null,
   "metadata": {},
   "outputs": [],
   "source": [
    "fig = plt.figure(figsize=(10,14/1.618))\n",
    "for i in range (0,len(myDate)):\n",
    "    ds.psi.sel(time=myDate[i]).plot(y='depth', linewidth=1.8,marker='.',markersize=1, label=myDate[i])\n",
    "plt.xlim([-3.5, 0.2])\n",
    "#plt.axhline(y=root_depth, xmin=0, xmax=1,color='black',linewidth=1, linestyle='-.')\n",
    "#plt.text(-3, root_depth-0.050, 'root depth', horizontalalignment='center',verticalalignment='center', fontsize=18, bbox=dict(facecolor='white', alpha=0.))\n",
    "plt.axhline(y=evaporation_layer_depth, xmin=0, xmax=1,color='black',linewidth=1,linestyle='-.')\n",
    "plt.text(-2.8, evaporation_layer_depth-0.050, 'evaporation depth', horizontalalignment='center',verticalalignment='center', fontsize=18, bbox=dict(facecolor='white', alpha=0.))\n",
    "plt.xlabel('$\\\\psi$ [m]')\n",
    "plt.title('Water suction with waterstressed evapotranspiration')\n",
    "plt.legend(bbox_to_anchor=(1.4,0.8))\n",
    "plt.grid(color='grey', linestyle='-', linewidth=0.3)"
   ]
  },
  {
   "cell_type": "code",
   "execution_count": null,
   "metadata": {},
   "outputs": [],
   "source": [
    "fig = plt.figure(figsize=(10,14/1.618))\n",
    "for i in range (0,len(myDate)):\n",
    "    ds.theta.sel(time=myDate[i],depth=ds.depth.values[0:len(ds.depth)-1]).plot(y='depth', linewidth=1.8,marker='.',markersize=1, label=myDate[i])\n",
    "plt.xlim([0.15, 0.31])\n",
    "plt.xlabel('$\\\\theta$ [-]')\n",
    "plt.title('Water content')\n",
    "plt.legend(bbox_to_anchor=(1.4,0.8))\n",
    "plt.grid(color='grey', linestyle='-', linewidth=0.3)"
   ]
  },
  {
   "cell_type": "markdown",
   "metadata": {},
   "source": [
    "## Plot top-bottom flux "
   ]
  },
  {
   "cell_type": "code",
   "execution_count": null,
   "metadata": {},
   "outputs": [],
   "source": [
    "fig = plt.figure(figsize=(10,14/1.618))\n",
    "ds.darcyVelocity.sel(dualDepth=ds.dualDepth[len(ds.dualDepth)-1], time=ds.time.values[:]).plot(linewidth=1.8,color='blue')\n",
    "plt.title('Top flux')\n",
    "plt.xlabel('Time')\n",
    "plt.grid(color='grey', linestyle='-', linewidth=0.3)"
   ]
  },
  {
   "cell_type": "code",
   "execution_count": null,
   "metadata": {},
   "outputs": [],
   "source": [
    "fig = plt.figure(figsize=(10,14/1.618))\n",
    "ds.darcyVelocity.sel(dualDepth=ds.dualDepth[0], time=ds.time.values[:]).plot(linewidth=1.8,color='blue')\n",
    "plt.title('Bottom flux')\n",
    "plt.xlabel('Time')\n",
    "plt.grid(color='grey', linestyle='-', linewidth=0.3)"
   ]
  },
  {
   "cell_type": "markdown",
   "metadata": {},
   "source": [
    "# Plot Evapotranspiration"
   ]
  },
  {
   "cell_type": "code",
   "execution_count": null,
   "metadata": {},
   "outputs": [],
   "source": [
    "os.chdir(project_path+'/output/SpikeII')\n",
    "#os.listdir()"
   ]
  },
  {
   "cell_type": "code",
   "execution_count": null,
   "metadata": {},
   "outputs": [],
   "source": [
    "compare_sim_obs('Evaporation_Soilwaterstress_'+lab+'.csv','ET_3.csv')"
   ]
  },
  {
   "cell_type": "code",
   "execution_count": null,
   "metadata": {},
   "outputs": [],
   "source": [
    "df = pd.read_csv('EvapoTranspiration_SpikeADE_'+lab+'.csv',skiprows=6,parse_dates=[1])\n",
    "df = df.drop(['Format'],axis=1) \n",
    "df.columns = ['Datetime','Evapotranspiration']\n",
    "#df.set_index('Datetime',inplace=True)"
   ]
  },
  {
   "cell_type": "code",
   "execution_count": null,
   "metadata": {},
   "outputs": [],
   "source": [
    "df2 = pd.read_csv('ET_hcum_hourly.csv',skiprows=6,parse_dates=[1])\n",
    "df2 = df2.drop(['Format'],axis=1) \n",
    "df2.columns = ['Datetime','Evapotranspiration']\n",
    "#df.set_index('Datetime',inplace=True)"
   ]
  },
  {
   "cell_type": "code",
   "execution_count": null,
   "metadata": {},
   "outputs": [],
   "source": [
    "ETgeo= df.Evapotranspiration[0:1201].sum()\n",
    "ETgeo"
   ]
  },
  {
   "cell_type": "code",
   "execution_count": null,
   "metadata": {},
   "outputs": [],
   "source": [
    "ETspike= df2.Evapotranspiration[0:1201].sum()\n",
    "ETspike"
   ]
  },
  {
   "cell_type": "code",
   "execution_count": null,
   "metadata": {
    "tags": []
   },
   "outputs": [],
   "source": [
    "error=abs(((ETspike-ETgeo)/ETspike)*100)\n",
    "error"
   ]
  },
  {
   "cell_type": "code",
   "execution_count": null,
   "metadata": {},
   "outputs": [],
   "source": [
    "ds.time.values[1201]"
   ]
  },
  {
   "cell_type": "code",
   "execution_count": null,
   "metadata": {},
   "outputs": [],
   "source": []
  },
  {
   "cell_type": "code",
   "execution_count": null,
   "metadata": {},
   "outputs": [],
   "source": [
    "df3 = pd.read_csv('EvapoTranspiration_SpikeADE_environmentalstress_2802_01.csv',skiprows=6,parse_dates=[1])\n",
    "df3 = df3.drop(['Format'],axis=1) \n",
    "df3.columns = ['Datetime','Evapotranspiration']"
   ]
  },
  {
   "cell_type": "code",
   "execution_count": null,
   "metadata": {},
   "outputs": [],
   "source": [
    "df4 = pd.read_csv('EvapoTranspiration_SpikeADE_potential_2802_01.csv',skiprows=6,parse_dates=[1])\n",
    "df4 = df4.drop(['Format'],axis=1) \n",
    "df4.columns = ['Datetime','Evapotranspiration']"
   ]
  },
  {
   "cell_type": "code",
   "execution_count": null,
   "metadata": {},
   "outputs": [],
   "source": [
    "df5 = pd.read_csv('EvapoTranspiration_SpikeADE_totalstress_2802_01.csv',skiprows=6,parse_dates=[1])\n",
    "df5 = df5.drop(['Format'],axis=1) \n",
    "df5.columns = ['Datetime','Evapotranspiration']"
   ]
  },
  {
   "cell_type": "code",
   "execution_count": null,
   "metadata": {},
   "outputs": [],
   "source": [
    "fig = px.line()\n",
    "fig.add_trace(go.Scatter(x=df['Datetime'], y=df['Evapotranspiration'], mode='lines', name='GEO_water'))\n",
    "fig.add_trace(go.Scatter(x=df2['Datetime'], y=df2['Evapotranspiration'], mode='lines', name='SpikeII'))\n",
    "fig.add_trace(go.Scatter(x=df3['Datetime'], y=df3['Evapotranspiration'], mode='lines', name='GEO_environment'))\n",
    "fig.add_trace(go.Scatter(x=df4['Datetime'], y=df4['Evapotranspiration'], mode='lines', name='GEO_potential'))\n",
    "fig.add_trace(go.Scatter(x=df5['Datetime'], y=df5['Evapotranspiration'], mode='lines', name='GEO_total'))\n",
    "fig.update_layout(\n",
    "        title='Compare GEOSPACE and SpikeII evapotranspiration',\n",
    "        #xaxis_title=\"Date\"\n",
    "        font_family=\"Times New Roman\",\n",
    "        font_color=\"Black\",\n",
    "        title_font_family=\"Times New Roman\",\n",
    "        title_font_color=\"Black\",\n",
    "        yaxis_title=\" ET\",\n",
    "        #legend_title=\"Date\",\n",
    "        font=dict(size=16))\n",
    "fig.show()"
   ]
  },
  {
   "cell_type": "code",
   "execution_count": null,
   "metadata": {},
   "outputs": [],
   "source": []
  },
  {
   "cell_type": "code",
   "execution_count": null,
   "metadata": {},
   "outputs": [],
   "source": [
    "ETspike= df2.Evapotranspiration[0:1201].sum()\n",
    "ETspike"
   ]
  },
  {
   "cell_type": "code",
   "execution_count": null,
   "metadata": {},
   "outputs": [],
   "source": [
    "ETgeowater= df.Evapotranspiration[0:1201].sum()\n",
    "ETgeowater"
   ]
  },
  {
   "cell_type": "code",
   "execution_count": null,
   "metadata": {
    "tags": []
   },
   "outputs": [],
   "source": [
    "error=abs(((ETspike-ETgeowater)/ETspike)*100)\n",
    "error"
   ]
  },
  {
   "cell_type": "code",
   "execution_count": null,
   "metadata": {},
   "outputs": [],
   "source": [
    "ETgeoenv= df3.Evapotranspiration[0:1201].sum()\n",
    "ETgeoenv"
   ]
  },
  {
   "cell_type": "code",
   "execution_count": null,
   "metadata": {
    "tags": []
   },
   "outputs": [],
   "source": [
    "error=abs(((ETspike-ETgeoenv)/ETspike)*100)\n",
    "error"
   ]
  },
  {
   "cell_type": "code",
   "execution_count": null,
   "metadata": {},
   "outputs": [],
   "source": [
    "ETgeopot= df4.Evapotranspiration[0:1201].sum()\n",
    "ETgeopot"
   ]
  },
  {
   "cell_type": "code",
   "execution_count": null,
   "metadata": {
    "tags": []
   },
   "outputs": [],
   "source": [
    "error=abs(((ETspike-ETgeopot)/ETspike)*100)\n",
    "error"
   ]
  },
  {
   "cell_type": "code",
   "execution_count": null,
   "metadata": {},
   "outputs": [],
   "source": [
    "ETgeototal= df5.Evapotranspiration[0:1201].sum()\n",
    "ETgeototal"
   ]
  },
  {
   "cell_type": "code",
   "execution_count": null,
   "metadata": {
    "tags": []
   },
   "outputs": [],
   "source": [
    "error=abs(((ETspike-ETgeototal)/ETspike)*100)\n",
    "error"
   ]
  },
  {
   "cell_type": "code",
   "execution_count": null,
   "metadata": {},
   "outputs": [],
   "source": []
  },
  {
   "cell_type": "code",
   "execution_count": null,
   "metadata": {},
   "outputs": [],
   "source": []
  }
 ],
 "metadata": {
  "kernelspec": {
   "display_name": "Python 3 (ipykernel)",
   "language": "python",
   "name": "python3"
  },
  "language_info": {
   "codemirror_mode": {
    "name": "ipython",
    "version": 3
   },
   "file_extension": ".py",
   "mimetype": "text/x-python",
   "name": "python",
   "nbconvert_exporter": "python",
   "pygments_lexer": "ipython3",
   "version": "3.7.12"
  }
 },
 "nbformat": 4,
 "nbformat_minor": 4
}
