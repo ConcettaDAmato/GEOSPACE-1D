{
 "cells": [
  {
   "cell_type": "markdown",
   "metadata": {},
   "source": [
    "# *Hourly Mean Relative humidity data*"
   ]
  },
  {
   "cell_type": "code",
   "execution_count": 1,
   "metadata": {
    "collapsed": false
   },
   "outputs": [],
   "source": [
    "import os\n",
    "from pandas import *\n",
    "import numpy as np\n",
    "import pandas as pd\n",
    "import plotly.express as px\n",
    "import matplotlib.pyplot as plt\n",
    "%matplotlib inline\n",
    "import numpy as np\n",
    "import datetime as datetime\n",
    "from timeseries_writer import *\n",
    "oms_project_path = os.getcwd()"
   ]
  },
  {
   "cell_type": "code",
   "execution_count": 2,
   "metadata": {},
   "outputs": [
    {
     "data": {
      "text/plain": [
       "['DemSpikeIIcut.tif',\n",
       " 'ShortwaveDiffuse_1_new.csv',\n",
       " 'VPD.csv',\n",
       " '.DS_Store',\n",
       " 'skyviewSpikeII.asc.aux.xml',\n",
       " 'centroid.dbf',\n",
       " 'centroid.qix',\n",
       " 'Rel_Hum.csv',\n",
       " 'centroid.shx',\n",
       " '15ShortwaveDirect_1_new.csv',\n",
       " 'centroid.shp',\n",
       " 'ShortwaveDirect_1_new.csv',\n",
       " 'icRootSpikeII_B.csv',\n",
       " 'icRootSpikeII_C.csv',\n",
       " '15ShortwaveDiffuse_1_new.csv',\n",
       " 'skyviewSpikeII.asc',\n",
       " 'icRootSpikeII_A.csv',\n",
       " 'Solar_Radiation.csv',\n",
       " '15LongDownwelling_1.csv',\n",
       " 'DemSpikeIIcut.prj',\n",
       " 'AirTemperature15m.csv',\n",
       " 'DEMtaglio1.tif',\n",
       " 'LongUpwelling_1.csv',\n",
       " 'Wind_Speed1h',\n",
       " '15Net_1.csv',\n",
       " '15LongUpwelling_1.csv',\n",
       " 'centroid.prj',\n",
       " 'SWTotal_1_new.csv',\n",
       " '15SWTotal_1_new.csv',\n",
       " 'LongDownwelling_1.csv',\n",
       " 'Precip_Irrig.csv',\n",
       " 'Net_1.csv',\n",
       " 'DemSpikeIIcut.tif.aux.xml',\n",
       " 'Wind_Speed.csv',\n",
       " 'skyviewSpikeII.prj',\n",
       " 'AirTemperature1h']"
      ]
     },
     "execution_count": 2,
     "metadata": {},
     "output_type": "execute_result"
    }
   ],
   "source": [
    "os.chdir(oms_project_path+\"/SpikeII\")\n",
    "os.listdir()"
   ]
  },
  {
   "cell_type": "markdown",
   "metadata": {},
   "source": [
    "### Open dataset"
   ]
  },
  {
   "cell_type": "code",
   "execution_count": 3,
   "metadata": {
    "collapsed": false
   },
   "outputs": [
    {
     "data": {
      "text/html": [
       "<div>\n",
       "<style scoped>\n",
       "    .dataframe tbody tr th:only-of-type {\n",
       "        vertical-align: middle;\n",
       "    }\n",
       "\n",
       "    .dataframe tbody tr th {\n",
       "        vertical-align: top;\n",
       "    }\n",
       "\n",
       "    .dataframe thead th {\n",
       "        text-align: right;\n",
       "    }\n",
       "</style>\n",
       "<table border=\"1\" class=\"dataframe\">\n",
       "  <thead>\n",
       "    <tr style=\"text-align: right;\">\n",
       "      <th></th>\n",
       "      <th>RH</th>\n",
       "    </tr>\n",
       "    <tr>\n",
       "      <th>Time</th>\n",
       "      <th></th>\n",
       "    </tr>\n",
       "  </thead>\n",
       "  <tbody>\n",
       "    <tr>\n",
       "      <th>2018-05-10 00:00:00</th>\n",
       "      <td>100</td>\n",
       "    </tr>\n",
       "    <tr>\n",
       "      <th>2018-05-10 00:15:00</th>\n",
       "      <td>100</td>\n",
       "    </tr>\n",
       "    <tr>\n",
       "      <th>2018-05-10 00:30:00</th>\n",
       "      <td>100</td>\n",
       "    </tr>\n",
       "    <tr>\n",
       "      <th>2018-05-10 00:45:00</th>\n",
       "      <td>100</td>\n",
       "    </tr>\n",
       "    <tr>\n",
       "      <th>2018-05-10 01:00:00</th>\n",
       "      <td>100</td>\n",
       "    </tr>\n",
       "    <tr>\n",
       "      <th>...</th>\n",
       "      <td>...</td>\n",
       "    </tr>\n",
       "    <tr>\n",
       "      <th>2018-07-01 22:45:00</th>\n",
       "      <td>57</td>\n",
       "    </tr>\n",
       "    <tr>\n",
       "      <th>2018-07-01 23:00:00</th>\n",
       "      <td>57</td>\n",
       "    </tr>\n",
       "    <tr>\n",
       "      <th>2018-07-01 23:15:00</th>\n",
       "      <td>58</td>\n",
       "    </tr>\n",
       "    <tr>\n",
       "      <th>2018-07-01 23:30:00</th>\n",
       "      <td>58</td>\n",
       "    </tr>\n",
       "    <tr>\n",
       "      <th>2018-07-01 23:45:00</th>\n",
       "      <td>58</td>\n",
       "    </tr>\n",
       "  </tbody>\n",
       "</table>\n",
       "<p>5088 rows × 1 columns</p>\n",
       "</div>"
      ],
      "text/plain": [
       "                      RH\n",
       "Time                    \n",
       "2018-05-10 00:00:00  100\n",
       "2018-05-10 00:15:00  100\n",
       "2018-05-10 00:30:00  100\n",
       "2018-05-10 00:45:00  100\n",
       "2018-05-10 01:00:00  100\n",
       "...                  ...\n",
       "2018-07-01 22:45:00   57\n",
       "2018-07-01 23:00:00   57\n",
       "2018-07-01 23:15:00   58\n",
       "2018-07-01 23:30:00   58\n",
       "2018-07-01 23:45:00   58\n",
       "\n",
       "[5088 rows x 1 columns]"
      ]
     },
     "execution_count": 3,
     "metadata": {},
     "output_type": "execute_result"
    }
   ],
   "source": [
    "df_15min = pd.read_csv('Rel_Hum.csv',skiprows=6,parse_dates=[1])\n",
    "df_15min = df_15min.drop(['Format'],axis=1) \n",
    "df_15min.columns = ['Time','RH']\n",
    "df_15min.set_index('Time',inplace=True)\n",
    "df_15min"
   ]
  },
  {
   "cell_type": "markdown",
   "metadata": {},
   "source": [
    "### Extracting dataset"
   ]
  },
  {
   "cell_type": "markdown",
   "metadata": {},
   "source": [
    "If you want to select data by time, use this code"
   ]
  },
  {
   "cell_type": "markdown",
   "metadata": {},
   "source": [
    "#crei una serie temporale con le date orarie\n",
    "date_rng=pd.date_range(start='2018-05-10 00:00',end='2018-07-01 00:00',freq='1H')\n",
    "\n",
    "#crei il dataframe con le date\n",
    "df_dates = pd.DataFrame({'Time': date_rng})\n",
    "df_dates.set_index('Time',inplace=True)\n",
    "\n",
    "#estrai dal dataframe di 15 min le date che ti servono\n",
    "df_dates = df_dates.join(df_15min, how='inner')\n",
    "df_dates.head()"
   ]
  },
  {
   "cell_type": "markdown",
   "metadata": {},
   "source": [
    "If you want to create an hourly time series using the mean:"
   ]
  },
  {
   "cell_type": "code",
   "execution_count": 4,
   "metadata": {},
   "outputs": [
    {
     "data": {
      "text/html": [
       "<div>\n",
       "<style scoped>\n",
       "    .dataframe tbody tr th:only-of-type {\n",
       "        vertical-align: middle;\n",
       "    }\n",
       "\n",
       "    .dataframe tbody tr th {\n",
       "        vertical-align: top;\n",
       "    }\n",
       "\n",
       "    .dataframe thead th {\n",
       "        text-align: right;\n",
       "    }\n",
       "</style>\n",
       "<table border=\"1\" class=\"dataframe\">\n",
       "  <thead>\n",
       "    <tr style=\"text-align: right;\">\n",
       "      <th></th>\n",
       "      <th>RH</th>\n",
       "    </tr>\n",
       "    <tr>\n",
       "      <th>Time</th>\n",
       "      <th></th>\n",
       "    </tr>\n",
       "  </thead>\n",
       "  <tbody>\n",
       "    <tr>\n",
       "      <th>2018-05-10 00:00:00</th>\n",
       "      <td>100.00</td>\n",
       "    </tr>\n",
       "    <tr>\n",
       "      <th>2018-05-10 01:00:00</th>\n",
       "      <td>100.00</td>\n",
       "    </tr>\n",
       "    <tr>\n",
       "      <th>2018-05-10 02:00:00</th>\n",
       "      <td>100.00</td>\n",
       "    </tr>\n",
       "    <tr>\n",
       "      <th>2018-05-10 03:00:00</th>\n",
       "      <td>100.00</td>\n",
       "    </tr>\n",
       "    <tr>\n",
       "      <th>2018-05-10 04:00:00</th>\n",
       "      <td>100.00</td>\n",
       "    </tr>\n",
       "    <tr>\n",
       "      <th>...</th>\n",
       "      <td>...</td>\n",
       "    </tr>\n",
       "    <tr>\n",
       "      <th>2018-07-01 19:00:00</th>\n",
       "      <td>45.50</td>\n",
       "    </tr>\n",
       "    <tr>\n",
       "      <th>2018-07-01 20:00:00</th>\n",
       "      <td>50.25</td>\n",
       "    </tr>\n",
       "    <tr>\n",
       "      <th>2018-07-01 21:00:00</th>\n",
       "      <td>54.75</td>\n",
       "    </tr>\n",
       "    <tr>\n",
       "      <th>2018-07-01 22:00:00</th>\n",
       "      <td>56.50</td>\n",
       "    </tr>\n",
       "    <tr>\n",
       "      <th>2018-07-01 23:00:00</th>\n",
       "      <td>57.75</td>\n",
       "    </tr>\n",
       "  </tbody>\n",
       "</table>\n",
       "<p>1272 rows × 1 columns</p>\n",
       "</div>"
      ],
      "text/plain": [
       "                         RH\n",
       "Time                       \n",
       "2018-05-10 00:00:00  100.00\n",
       "2018-05-10 01:00:00  100.00\n",
       "2018-05-10 02:00:00  100.00\n",
       "2018-05-10 03:00:00  100.00\n",
       "2018-05-10 04:00:00  100.00\n",
       "...                     ...\n",
       "2018-07-01 19:00:00   45.50\n",
       "2018-07-01 20:00:00   50.25\n",
       "2018-07-01 21:00:00   54.75\n",
       "2018-07-01 22:00:00   56.50\n",
       "2018-07-01 23:00:00   57.75\n",
       "\n",
       "[1272 rows x 1 columns]"
      ]
     },
     "execution_count": 4,
     "metadata": {},
     "output_type": "execute_result"
    }
   ],
   "source": [
    "df=df_15min.resample('1H').mean()\n",
    "df"
   ]
  },
  {
   "cell_type": "code",
   "execution_count": 5,
   "metadata": {},
   "outputs": [],
   "source": [
    "ID_basin = 1"
   ]
  },
  {
   "cell_type": "code",
   "execution_count": 6,
   "metadata": {},
   "outputs": [
    {
     "data": {
      "text/html": [
       "<div>\n",
       "<style scoped>\n",
       "    .dataframe tbody tr th:only-of-type {\n",
       "        vertical-align: middle;\n",
       "    }\n",
       "\n",
       "    .dataframe tbody tr th {\n",
       "        vertical-align: top;\n",
       "    }\n",
       "\n",
       "    .dataframe thead th {\n",
       "        text-align: right;\n",
       "    }\n",
       "</style>\n",
       "<table border=\"1\" class=\"dataframe\">\n",
       "  <thead>\n",
       "    <tr style=\"text-align: right;\">\n",
       "      <th></th>\n",
       "      <th>Time</th>\n",
       "      <th>RH</th>\n",
       "    </tr>\n",
       "  </thead>\n",
       "  <tbody>\n",
       "    <tr>\n",
       "      <th>0</th>\n",
       "      <td>2018-05-10 00:00:00</td>\n",
       "      <td>100.00</td>\n",
       "    </tr>\n",
       "    <tr>\n",
       "      <th>1</th>\n",
       "      <td>2018-05-10 01:00:00</td>\n",
       "      <td>100.00</td>\n",
       "    </tr>\n",
       "    <tr>\n",
       "      <th>2</th>\n",
       "      <td>2018-05-10 02:00:00</td>\n",
       "      <td>100.00</td>\n",
       "    </tr>\n",
       "    <tr>\n",
       "      <th>3</th>\n",
       "      <td>2018-05-10 03:00:00</td>\n",
       "      <td>100.00</td>\n",
       "    </tr>\n",
       "    <tr>\n",
       "      <th>4</th>\n",
       "      <td>2018-05-10 04:00:00</td>\n",
       "      <td>100.00</td>\n",
       "    </tr>\n",
       "    <tr>\n",
       "      <th>...</th>\n",
       "      <td>...</td>\n",
       "      <td>...</td>\n",
       "    </tr>\n",
       "    <tr>\n",
       "      <th>1267</th>\n",
       "      <td>2018-07-01 19:00:00</td>\n",
       "      <td>45.50</td>\n",
       "    </tr>\n",
       "    <tr>\n",
       "      <th>1268</th>\n",
       "      <td>2018-07-01 20:00:00</td>\n",
       "      <td>50.25</td>\n",
       "    </tr>\n",
       "    <tr>\n",
       "      <th>1269</th>\n",
       "      <td>2018-07-01 21:00:00</td>\n",
       "      <td>54.75</td>\n",
       "    </tr>\n",
       "    <tr>\n",
       "      <th>1270</th>\n",
       "      <td>2018-07-01 22:00:00</td>\n",
       "      <td>56.50</td>\n",
       "    </tr>\n",
       "    <tr>\n",
       "      <th>1271</th>\n",
       "      <td>2018-07-01 23:00:00</td>\n",
       "      <td>57.75</td>\n",
       "    </tr>\n",
       "  </tbody>\n",
       "</table>\n",
       "<p>1272 rows × 2 columns</p>\n",
       "</div>"
      ],
      "text/plain": [
       "                    Time      RH\n",
       "0    2018-05-10 00:00:00  100.00\n",
       "1    2018-05-10 01:00:00  100.00\n",
       "2    2018-05-10 02:00:00  100.00\n",
       "3    2018-05-10 03:00:00  100.00\n",
       "4    2018-05-10 04:00:00  100.00\n",
       "...                  ...     ...\n",
       "1267 2018-07-01 19:00:00   45.50\n",
       "1268 2018-07-01 20:00:00   50.25\n",
       "1269 2018-07-01 21:00:00   54.75\n",
       "1270 2018-07-01 22:00:00   56.50\n",
       "1271 2018-07-01 23:00:00   57.75\n",
       "\n",
       "[1272 rows x 2 columns]"
      ]
     },
     "execution_count": 6,
     "metadata": {},
     "output_type": "execute_result"
    }
   ],
   "source": [
    "df.reset_index(inplace=True)\n",
    "df"
   ]
  },
  {
   "cell_type": "code",
   "execution_count": 7,
   "metadata": {},
   "outputs": [
    {
     "data": {
      "text/html": [
       "<div>\n",
       "<style scoped>\n",
       "    .dataframe tbody tr th:only-of-type {\n",
       "        vertical-align: middle;\n",
       "    }\n",
       "\n",
       "    .dataframe tbody tr th {\n",
       "        vertical-align: top;\n",
       "    }\n",
       "\n",
       "    .dataframe thead th {\n",
       "        text-align: right;\n",
       "    }\n",
       "</style>\n",
       "<table border=\"1\" class=\"dataframe\">\n",
       "  <thead>\n",
       "    <tr style=\"text-align: right;\">\n",
       "      <th></th>\n",
       "      <th>-</th>\n",
       "      <th>Time</th>\n",
       "      <th>RH</th>\n",
       "    </tr>\n",
       "  </thead>\n",
       "  <tbody>\n",
       "    <tr>\n",
       "      <th>0</th>\n",
       "      <td>NaN</td>\n",
       "      <td>2018-05-10 00:00:00</td>\n",
       "      <td>100.0</td>\n",
       "    </tr>\n",
       "    <tr>\n",
       "      <th>1</th>\n",
       "      <td>NaN</td>\n",
       "      <td>2018-05-10 01:00:00</td>\n",
       "      <td>100.0</td>\n",
       "    </tr>\n",
       "    <tr>\n",
       "      <th>2</th>\n",
       "      <td>NaN</td>\n",
       "      <td>2018-05-10 02:00:00</td>\n",
       "      <td>100.0</td>\n",
       "    </tr>\n",
       "    <tr>\n",
       "      <th>3</th>\n",
       "      <td>NaN</td>\n",
       "      <td>2018-05-10 03:00:00</td>\n",
       "      <td>100.0</td>\n",
       "    </tr>\n",
       "    <tr>\n",
       "      <th>4</th>\n",
       "      <td>NaN</td>\n",
       "      <td>2018-05-10 04:00:00</td>\n",
       "      <td>100.0</td>\n",
       "    </tr>\n",
       "  </tbody>\n",
       "</table>\n",
       "</div>"
      ],
      "text/plain": [
       "    -                Time     RH\n",
       "0 NaN 2018-05-10 00:00:00  100.0\n",
       "1 NaN 2018-05-10 01:00:00  100.0\n",
       "2 NaN 2018-05-10 02:00:00  100.0\n",
       "3 NaN 2018-05-10 03:00:00  100.0\n",
       "4 NaN 2018-05-10 04:00:00  100.0"
      ]
     },
     "execution_count": 7,
     "metadata": {},
     "output_type": "execute_result"
    }
   ],
   "source": [
    "df.insert(loc=0, column='-', value=np.nan)\n",
    "df.head()"
   ]
  },
  {
   "cell_type": "code",
   "execution_count": 8,
   "metadata": {},
   "outputs": [
    {
     "name": "stdout",
     "output_type": "stream",
     "text": [
      "\n",
      "\n",
      "***SUCCESS writing!  Rel_Hum1h\n"
     ]
    }
   ],
   "source": [
    "write_timeseries_csv(df,'Rel_Hum1h',ID_basin)"
   ]
  },
  {
   "cell_type": "code",
   "execution_count": null,
   "metadata": {},
   "outputs": [],
   "source": []
  }
 ],
 "metadata": {
  "kernelspec": {
   "display_name": "Python 3",
   "language": "python",
   "name": "python3"
  },
  "language_info": {
   "codemirror_mode": {
    "name": "ipython",
    "version": 3
   },
   "file_extension": ".py",
   "mimetype": "text/x-python",
   "name": "python",
   "nbconvert_exporter": "python",
   "pygments_lexer": "ipython3",
   "version": "3.7.10"
  }
 },
 "nbformat": 4,
 "nbformat_minor": 2
}
