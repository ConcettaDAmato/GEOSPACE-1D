{
 "cells": [
  {
   "cell_type": "markdown",
   "metadata": {},
   "source": [
    "# *Hourly cumulative Precipitation-Irrigation data*"
   ]
  },
  {
   "cell_type": "code",
   "execution_count": 1,
   "metadata": {
    "collapsed": false
   },
   "outputs": [],
   "source": [
    "import os\n",
    "from pandas import *\n",
    "import numpy as np\n",
    "import pandas as pd\n",
    "import plotly.express as px\n",
    "import matplotlib.pyplot as plt\n",
    "%matplotlib inline\n",
    "import numpy as np\n",
    "import datetime as datetime\n",
    "from timeseries_writer import *\n",
    "oms_project_path = os.getcwd()"
   ]
  },
  {
   "cell_type": "code",
   "execution_count": 2,
   "metadata": {},
   "outputs": [
    {
     "data": {
      "text/plain": [
       "['DemSpikeIIcut.tif',\n",
       " '.DS_Store',\n",
       " 'skyviewSpikeII.asc.aux.xml',\n",
       " 'centroid.dbf',\n",
       " 'centroid.qix',\n",
       " 'icRootSpikeIImean.csv',\n",
       " 'centroid.shx',\n",
       " 'icRootSpikeII.csv',\n",
       " 'centroid.shp',\n",
       " 'Wind_Speed15m.csv',\n",
       " 'icRootSpikeII_B.csv',\n",
       " 'icRootSpikeII_C.csv',\n",
       " 'skyviewSpikeII.asc',\n",
       " 'icRootSpikeII_A.csv',\n",
       " 'VPD1h',\n",
       " 'Solar_Radiation.csv',\n",
       " 'DemSpikeIIcut.prj',\n",
       " 'AirTemperature15m.csv',\n",
       " 'DEMtaglio1.tif',\n",
       " 'Rel_Hum1h',\n",
       " 'Wind_Speed1h',\n",
       " 'Rel_Hum15m.csv',\n",
       " 'centroid.prj',\n",
       " 'Solar_Radiation1h',\n",
       " 'Precip_Irrig.csv',\n",
       " 'VPD15m.csv',\n",
       " 'DemSpikeIIcut.tif.aux.xml',\n",
       " 'skyviewSpikeII.prj',\n",
       " 'AirTemperature1h']"
      ]
     },
     "execution_count": 2,
     "metadata": {},
     "output_type": "execute_result"
    }
   ],
   "source": [
    "os.chdir(oms_project_path+\"/SpikeII\")\n",
    "os.listdir()"
   ]
  },
  {
   "cell_type": "markdown",
   "metadata": {},
   "source": [
    "### Open dataset"
   ]
  },
  {
   "cell_type": "code",
   "execution_count": 3,
   "metadata": {
    "collapsed": false
   },
   "outputs": [
    {
     "data": {
      "text/html": [
       "<div>\n",
       "<style scoped>\n",
       "    .dataframe tbody tr th:only-of-type {\n",
       "        vertical-align: middle;\n",
       "    }\n",
       "\n",
       "    .dataframe tbody tr th {\n",
       "        vertical-align: top;\n",
       "    }\n",
       "\n",
       "    .dataframe thead th {\n",
       "        text-align: right;\n",
       "    }\n",
       "</style>\n",
       "<table border=\"1\" class=\"dataframe\">\n",
       "  <thead>\n",
       "    <tr style=\"text-align: right;\">\n",
       "      <th></th>\n",
       "      <th>Precip_Irrig</th>\n",
       "    </tr>\n",
       "    <tr>\n",
       "      <th>Time</th>\n",
       "      <th></th>\n",
       "    </tr>\n",
       "  </thead>\n",
       "  <tbody>\n",
       "    <tr>\n",
       "      <th>2018-05-10 08:00:00</th>\n",
       "      <td>0.0000</td>\n",
       "    </tr>\n",
       "    <tr>\n",
       "      <th>2018-05-10 08:15:00</th>\n",
       "      <td>0.0499</td>\n",
       "    </tr>\n",
       "    <tr>\n",
       "      <th>2018-05-10 08:30:00</th>\n",
       "      <td>0.8820</td>\n",
       "    </tr>\n",
       "    <tr>\n",
       "      <th>2018-05-10 08:45:00</th>\n",
       "      <td>0.5236</td>\n",
       "    </tr>\n",
       "    <tr>\n",
       "      <th>2018-05-10 09:00:00</th>\n",
       "      <td>0.8845</td>\n",
       "    </tr>\n",
       "    <tr>\n",
       "      <th>2018-05-10 09:15:00</th>\n",
       "      <td>2.1078</td>\n",
       "    </tr>\n",
       "    <tr>\n",
       "      <th>2018-05-10 09:30:00</th>\n",
       "      <td>2.1131</td>\n",
       "    </tr>\n",
       "    <tr>\n",
       "      <th>2018-05-10 09:45:00</th>\n",
       "      <td>3.5780</td>\n",
       "    </tr>\n",
       "    <tr>\n",
       "      <th>2018-05-10 10:00:00</th>\n",
       "      <td>2.0777</td>\n",
       "    </tr>\n",
       "  </tbody>\n",
       "</table>\n",
       "</div>"
      ],
      "text/plain": [
       "                     Precip_Irrig\n",
       "Time                             \n",
       "2018-05-10 08:00:00        0.0000\n",
       "2018-05-10 08:15:00        0.0499\n",
       "2018-05-10 08:30:00        0.8820\n",
       "2018-05-10 08:45:00        0.5236\n",
       "2018-05-10 09:00:00        0.8845\n",
       "2018-05-10 09:15:00        2.1078\n",
       "2018-05-10 09:30:00        2.1131\n",
       "2018-05-10 09:45:00        3.5780\n",
       "2018-05-10 10:00:00        2.0777"
      ]
     },
     "execution_count": 3,
     "metadata": {},
     "output_type": "execute_result"
    }
   ],
   "source": [
    "df_15min = pd.read_csv('Precip_Irrig.csv',skiprows=6,parse_dates=[1])\n",
    "df_15min = df_15min.drop(['Format'],axis=1) \n",
    "df_15min.columns = ['Time','Precip_Irrig']\n",
    "df_15min.set_index('Time',inplace=True)\n",
    "df_15min[32:41]"
   ]
  },
  {
   "cell_type": "markdown",
   "metadata": {},
   "source": [
    "### Extracting dataset"
   ]
  },
  {
   "cell_type": "markdown",
   "metadata": {},
   "source": [
    "I dati ricevuti sono di intensita di pioggia mm/h. WHETGEO necessita di mm di pioggia caduti nell'arco temporale che metteremo come temporalStep. \n",
    "Quindi si deve prima passare in mm e poi fare la cumulata oraria. Quindi moltiplichiamo per 0.25 ottenendo l'altezza di precipiatazione in 15 min e poi facciamo la cumulata per ottenere i valori orari "
   ]
  },
  {
   "cell_type": "code",
   "execution_count": 4,
   "metadata": {},
   "outputs": [
    {
     "data": {
      "text/html": [
       "<div>\n",
       "<style scoped>\n",
       "    .dataframe tbody tr th:only-of-type {\n",
       "        vertical-align: middle;\n",
       "    }\n",
       "\n",
       "    .dataframe tbody tr th {\n",
       "        vertical-align: top;\n",
       "    }\n",
       "\n",
       "    .dataframe thead th {\n",
       "        text-align: right;\n",
       "    }\n",
       "</style>\n",
       "<table border=\"1\" class=\"dataframe\">\n",
       "  <thead>\n",
       "    <tr style=\"text-align: right;\">\n",
       "      <th></th>\n",
       "      <th>Precip_Irrig</th>\n",
       "      <th>Precip_Irrig_h</th>\n",
       "    </tr>\n",
       "    <tr>\n",
       "      <th>Time</th>\n",
       "      <th></th>\n",
       "      <th></th>\n",
       "    </tr>\n",
       "  </thead>\n",
       "  <tbody>\n",
       "    <tr>\n",
       "      <th>2018-05-10 08:00:00</th>\n",
       "      <td>0.0000</td>\n",
       "      <td>0.000000</td>\n",
       "    </tr>\n",
       "    <tr>\n",
       "      <th>2018-05-10 08:15:00</th>\n",
       "      <td>0.0499</td>\n",
       "      <td>0.012475</td>\n",
       "    </tr>\n",
       "    <tr>\n",
       "      <th>2018-05-10 08:30:00</th>\n",
       "      <td>0.8820</td>\n",
       "      <td>0.220500</td>\n",
       "    </tr>\n",
       "    <tr>\n",
       "      <th>2018-05-10 08:45:00</th>\n",
       "      <td>0.5236</td>\n",
       "      <td>0.130900</td>\n",
       "    </tr>\n",
       "    <tr>\n",
       "      <th>2018-05-10 09:00:00</th>\n",
       "      <td>0.8845</td>\n",
       "      <td>0.221125</td>\n",
       "    </tr>\n",
       "    <tr>\n",
       "      <th>2018-05-10 09:15:00</th>\n",
       "      <td>2.1078</td>\n",
       "      <td>0.526950</td>\n",
       "    </tr>\n",
       "    <tr>\n",
       "      <th>2018-05-10 09:30:00</th>\n",
       "      <td>2.1131</td>\n",
       "      <td>0.528275</td>\n",
       "    </tr>\n",
       "    <tr>\n",
       "      <th>2018-05-10 09:45:00</th>\n",
       "      <td>3.5780</td>\n",
       "      <td>0.894500</td>\n",
       "    </tr>\n",
       "    <tr>\n",
       "      <th>2018-05-10 10:00:00</th>\n",
       "      <td>2.0777</td>\n",
       "      <td>0.519425</td>\n",
       "    </tr>\n",
       "  </tbody>\n",
       "</table>\n",
       "</div>"
      ],
      "text/plain": [
       "                     Precip_Irrig  Precip_Irrig_h\n",
       "Time                                             \n",
       "2018-05-10 08:00:00        0.0000        0.000000\n",
       "2018-05-10 08:15:00        0.0499        0.012475\n",
       "2018-05-10 08:30:00        0.8820        0.220500\n",
       "2018-05-10 08:45:00        0.5236        0.130900\n",
       "2018-05-10 09:00:00        0.8845        0.221125\n",
       "2018-05-10 09:15:00        2.1078        0.526950\n",
       "2018-05-10 09:30:00        2.1131        0.528275\n",
       "2018-05-10 09:45:00        3.5780        0.894500\n",
       "2018-05-10 10:00:00        2.0777        0.519425"
      ]
     },
     "execution_count": 4,
     "metadata": {},
     "output_type": "execute_result"
    }
   ],
   "source": [
    "df_15min_h =df_15min.assign( Precip_Irrig_h = df_15min['Precip_Irrig'] * 0.25)\n",
    "df_15min_h[32:41]"
   ]
  },
  {
   "cell_type": "code",
   "execution_count": 8,
   "metadata": {},
   "outputs": [
    {
     "data": {
      "text/html": [
       "<div>\n",
       "<style scoped>\n",
       "    .dataframe tbody tr th:only-of-type {\n",
       "        vertical-align: middle;\n",
       "    }\n",
       "\n",
       "    .dataframe tbody tr th {\n",
       "        vertical-align: top;\n",
       "    }\n",
       "\n",
       "    .dataframe thead th {\n",
       "        text-align: right;\n",
       "    }\n",
       "</style>\n",
       "<table border=\"1\" class=\"dataframe\">\n",
       "  <thead>\n",
       "    <tr style=\"text-align: right;\">\n",
       "      <th></th>\n",
       "      <th>Precip_Irrig</th>\n",
       "      <th>Precip_Irrig_h</th>\n",
       "    </tr>\n",
       "    <tr>\n",
       "      <th>Time</th>\n",
       "      <th></th>\n",
       "      <th></th>\n",
       "    </tr>\n",
       "  </thead>\n",
       "  <tbody>\n",
       "    <tr>\n",
       "      <th>2018-05-10 07:00:00</th>\n",
       "      <td>0.0000</td>\n",
       "      <td>0.000000</td>\n",
       "    </tr>\n",
       "    <tr>\n",
       "      <th>2018-05-10 08:00:00</th>\n",
       "      <td>1.4555</td>\n",
       "      <td>0.363875</td>\n",
       "    </tr>\n",
       "    <tr>\n",
       "      <th>2018-05-10 09:00:00</th>\n",
       "      <td>8.6834</td>\n",
       "      <td>2.170850</td>\n",
       "    </tr>\n",
       "  </tbody>\n",
       "</table>\n",
       "</div>"
      ],
      "text/plain": [
       "                     Precip_Irrig  Precip_Irrig_h\n",
       "Time                                             \n",
       "2018-05-10 07:00:00        0.0000        0.000000\n",
       "2018-05-10 08:00:00        1.4555        0.363875\n",
       "2018-05-10 09:00:00        8.6834        2.170850"
      ]
     },
     "execution_count": 8,
     "metadata": {},
     "output_type": "execute_result"
    }
   ],
   "source": [
    "df_hourly = df_15min_h.resample('1H').sum(min_count=1)\n",
    "df_hourly[7:10]"
   ]
  },
  {
   "cell_type": "code",
   "execution_count": 9,
   "metadata": {},
   "outputs": [
    {
     "data": {
      "text/html": [
       "<div>\n",
       "<style scoped>\n",
       "    .dataframe tbody tr th:only-of-type {\n",
       "        vertical-align: middle;\n",
       "    }\n",
       "\n",
       "    .dataframe tbody tr th {\n",
       "        vertical-align: top;\n",
       "    }\n",
       "\n",
       "    .dataframe thead th {\n",
       "        text-align: right;\n",
       "    }\n",
       "</style>\n",
       "<table border=\"1\" class=\"dataframe\">\n",
       "  <thead>\n",
       "    <tr style=\"text-align: right;\">\n",
       "      <th></th>\n",
       "      <th>Time</th>\n",
       "      <th>Precip_Irrig</th>\n",
       "      <th>Precip_Irrig_h</th>\n",
       "    </tr>\n",
       "  </thead>\n",
       "  <tbody>\n",
       "    <tr>\n",
       "      <th>0</th>\n",
       "      <td>2018-05-10 00:00:00</td>\n",
       "      <td>0.0</td>\n",
       "      <td>0.0</td>\n",
       "    </tr>\n",
       "    <tr>\n",
       "      <th>1</th>\n",
       "      <td>2018-05-10 01:00:00</td>\n",
       "      <td>0.0</td>\n",
       "      <td>0.0</td>\n",
       "    </tr>\n",
       "    <tr>\n",
       "      <th>2</th>\n",
       "      <td>2018-05-10 02:00:00</td>\n",
       "      <td>0.0</td>\n",
       "      <td>0.0</td>\n",
       "    </tr>\n",
       "    <tr>\n",
       "      <th>3</th>\n",
       "      <td>2018-05-10 03:00:00</td>\n",
       "      <td>0.0</td>\n",
       "      <td>0.0</td>\n",
       "    </tr>\n",
       "    <tr>\n",
       "      <th>4</th>\n",
       "      <td>2018-05-10 04:00:00</td>\n",
       "      <td>0.0</td>\n",
       "      <td>0.0</td>\n",
       "    </tr>\n",
       "    <tr>\n",
       "      <th>...</th>\n",
       "      <td>...</td>\n",
       "      <td>...</td>\n",
       "      <td>...</td>\n",
       "    </tr>\n",
       "    <tr>\n",
       "      <th>1267</th>\n",
       "      <td>2018-07-01 19:00:00</td>\n",
       "      <td>0.0</td>\n",
       "      <td>0.0</td>\n",
       "    </tr>\n",
       "    <tr>\n",
       "      <th>1268</th>\n",
       "      <td>2018-07-01 20:00:00</td>\n",
       "      <td>0.0</td>\n",
       "      <td>0.0</td>\n",
       "    </tr>\n",
       "    <tr>\n",
       "      <th>1269</th>\n",
       "      <td>2018-07-01 21:00:00</td>\n",
       "      <td>0.0</td>\n",
       "      <td>0.0</td>\n",
       "    </tr>\n",
       "    <tr>\n",
       "      <th>1270</th>\n",
       "      <td>2018-07-01 22:00:00</td>\n",
       "      <td>0.0</td>\n",
       "      <td>0.0</td>\n",
       "    </tr>\n",
       "    <tr>\n",
       "      <th>1271</th>\n",
       "      <td>2018-07-01 23:00:00</td>\n",
       "      <td>0.0</td>\n",
       "      <td>0.0</td>\n",
       "    </tr>\n",
       "  </tbody>\n",
       "</table>\n",
       "<p>1272 rows × 3 columns</p>\n",
       "</div>"
      ],
      "text/plain": [
       "                    Time  Precip_Irrig  Precip_Irrig_h\n",
       "0    2018-05-10 00:00:00           0.0             0.0\n",
       "1    2018-05-10 01:00:00           0.0             0.0\n",
       "2    2018-05-10 02:00:00           0.0             0.0\n",
       "3    2018-05-10 03:00:00           0.0             0.0\n",
       "4    2018-05-10 04:00:00           0.0             0.0\n",
       "...                  ...           ...             ...\n",
       "1267 2018-07-01 19:00:00           0.0             0.0\n",
       "1268 2018-07-01 20:00:00           0.0             0.0\n",
       "1269 2018-07-01 21:00:00           0.0             0.0\n",
       "1270 2018-07-01 22:00:00           0.0             0.0\n",
       "1271 2018-07-01 23:00:00           0.0             0.0\n",
       "\n",
       "[1272 rows x 3 columns]"
      ]
     },
     "execution_count": 9,
     "metadata": {},
     "output_type": "execute_result"
    }
   ],
   "source": [
    "df_hourly.reset_index(inplace=True)\n",
    "df_hourly"
   ]
  },
  {
   "cell_type": "code",
   "execution_count": 10,
   "metadata": {},
   "outputs": [],
   "source": [
    "ID_basin = 1"
   ]
  },
  {
   "cell_type": "code",
   "execution_count": 11,
   "metadata": {},
   "outputs": [
    {
     "data": {
      "text/html": [
       "<div>\n",
       "<style scoped>\n",
       "    .dataframe tbody tr th:only-of-type {\n",
       "        vertical-align: middle;\n",
       "    }\n",
       "\n",
       "    .dataframe tbody tr th {\n",
       "        vertical-align: top;\n",
       "    }\n",
       "\n",
       "    .dataframe thead th {\n",
       "        text-align: right;\n",
       "    }\n",
       "</style>\n",
       "<table border=\"1\" class=\"dataframe\">\n",
       "  <thead>\n",
       "    <tr style=\"text-align: right;\">\n",
       "      <th></th>\n",
       "      <th>Time</th>\n",
       "      <th>Precip_Irrig</th>\n",
       "    </tr>\n",
       "  </thead>\n",
       "  <tbody>\n",
       "    <tr>\n",
       "      <th>0</th>\n",
       "      <td>2018-05-10 00:00:00</td>\n",
       "      <td>0.0</td>\n",
       "    </tr>\n",
       "    <tr>\n",
       "      <th>1</th>\n",
       "      <td>2018-05-10 01:00:00</td>\n",
       "      <td>0.0</td>\n",
       "    </tr>\n",
       "    <tr>\n",
       "      <th>2</th>\n",
       "      <td>2018-05-10 02:00:00</td>\n",
       "      <td>0.0</td>\n",
       "    </tr>\n",
       "    <tr>\n",
       "      <th>3</th>\n",
       "      <td>2018-05-10 03:00:00</td>\n",
       "      <td>0.0</td>\n",
       "    </tr>\n",
       "    <tr>\n",
       "      <th>4</th>\n",
       "      <td>2018-05-10 04:00:00</td>\n",
       "      <td>0.0</td>\n",
       "    </tr>\n",
       "  </tbody>\n",
       "</table>\n",
       "</div>"
      ],
      "text/plain": [
       "                 Time  Precip_Irrig\n",
       "0 2018-05-10 00:00:00           0.0\n",
       "1 2018-05-10 01:00:00           0.0\n",
       "2 2018-05-10 02:00:00           0.0\n",
       "3 2018-05-10 03:00:00           0.0\n",
       "4 2018-05-10 04:00:00           0.0"
      ]
     },
     "execution_count": 11,
     "metadata": {},
     "output_type": "execute_result"
    }
   ],
   "source": [
    "df_hourlyI=df_hourly[['Time','Precip_Irrig']]\n",
    "df_hourlyI.head()"
   ]
  },
  {
   "cell_type": "code",
   "execution_count": 12,
   "metadata": {},
   "outputs": [
    {
     "data": {
      "text/html": [
       "<div>\n",
       "<style scoped>\n",
       "    .dataframe tbody tr th:only-of-type {\n",
       "        vertical-align: middle;\n",
       "    }\n",
       "\n",
       "    .dataframe tbody tr th {\n",
       "        vertical-align: top;\n",
       "    }\n",
       "\n",
       "    .dataframe thead th {\n",
       "        text-align: right;\n",
       "    }\n",
       "</style>\n",
       "<table border=\"1\" class=\"dataframe\">\n",
       "  <thead>\n",
       "    <tr style=\"text-align: right;\">\n",
       "      <th></th>\n",
       "      <th>-</th>\n",
       "      <th>Time</th>\n",
       "      <th>Precip_Irrig</th>\n",
       "    </tr>\n",
       "  </thead>\n",
       "  <tbody>\n",
       "    <tr>\n",
       "      <th>0</th>\n",
       "      <td>NaN</td>\n",
       "      <td>2018-05-10 00:00:00</td>\n",
       "      <td>0.0</td>\n",
       "    </tr>\n",
       "    <tr>\n",
       "      <th>1</th>\n",
       "      <td>NaN</td>\n",
       "      <td>2018-05-10 01:00:00</td>\n",
       "      <td>0.0</td>\n",
       "    </tr>\n",
       "    <tr>\n",
       "      <th>2</th>\n",
       "      <td>NaN</td>\n",
       "      <td>2018-05-10 02:00:00</td>\n",
       "      <td>0.0</td>\n",
       "    </tr>\n",
       "    <tr>\n",
       "      <th>3</th>\n",
       "      <td>NaN</td>\n",
       "      <td>2018-05-10 03:00:00</td>\n",
       "      <td>0.0</td>\n",
       "    </tr>\n",
       "    <tr>\n",
       "      <th>4</th>\n",
       "      <td>NaN</td>\n",
       "      <td>2018-05-10 04:00:00</td>\n",
       "      <td>0.0</td>\n",
       "    </tr>\n",
       "  </tbody>\n",
       "</table>\n",
       "</div>"
      ],
      "text/plain": [
       "    -                Time  Precip_Irrig\n",
       "0 NaN 2018-05-10 00:00:00           0.0\n",
       "1 NaN 2018-05-10 01:00:00           0.0\n",
       "2 NaN 2018-05-10 02:00:00           0.0\n",
       "3 NaN 2018-05-10 03:00:00           0.0\n",
       "4 NaN 2018-05-10 04:00:00           0.0"
      ]
     },
     "execution_count": 12,
     "metadata": {},
     "output_type": "execute_result"
    }
   ],
   "source": [
    "df_hourlyI.insert(loc=0, column='-', value=np.nan)\n",
    "df_hourlyI.head()"
   ]
  },
  {
   "cell_type": "code",
   "execution_count": 13,
   "metadata": {},
   "outputs": [
    {
     "name": "stdout",
     "output_type": "stream",
     "text": [
      "\n",
      "\n",
      "***SUCCESS writing!  Prec_Irrig_Intensity_hourly\n"
     ]
    }
   ],
   "source": [
    "write_timeseries_csv(df_hourlyI,'Prec_Irrig_Intensity_hourly',ID_basin)"
   ]
  },
  {
   "cell_type": "code",
   "execution_count": 14,
   "metadata": {},
   "outputs": [
    {
     "data": {
      "text/html": [
       "<div>\n",
       "<style scoped>\n",
       "    .dataframe tbody tr th:only-of-type {\n",
       "        vertical-align: middle;\n",
       "    }\n",
       "\n",
       "    .dataframe tbody tr th {\n",
       "        vertical-align: top;\n",
       "    }\n",
       "\n",
       "    .dataframe thead th {\n",
       "        text-align: right;\n",
       "    }\n",
       "</style>\n",
       "<table border=\"1\" class=\"dataframe\">\n",
       "  <thead>\n",
       "    <tr style=\"text-align: right;\">\n",
       "      <th></th>\n",
       "      <th>Time</th>\n",
       "      <th>Precip_Irrig_h</th>\n",
       "    </tr>\n",
       "  </thead>\n",
       "  <tbody>\n",
       "    <tr>\n",
       "      <th>0</th>\n",
       "      <td>2018-05-10 00:00:00</td>\n",
       "      <td>0.0</td>\n",
       "    </tr>\n",
       "    <tr>\n",
       "      <th>1</th>\n",
       "      <td>2018-05-10 01:00:00</td>\n",
       "      <td>0.0</td>\n",
       "    </tr>\n",
       "    <tr>\n",
       "      <th>2</th>\n",
       "      <td>2018-05-10 02:00:00</td>\n",
       "      <td>0.0</td>\n",
       "    </tr>\n",
       "    <tr>\n",
       "      <th>3</th>\n",
       "      <td>2018-05-10 03:00:00</td>\n",
       "      <td>0.0</td>\n",
       "    </tr>\n",
       "    <tr>\n",
       "      <th>4</th>\n",
       "      <td>2018-05-10 04:00:00</td>\n",
       "      <td>0.0</td>\n",
       "    </tr>\n",
       "  </tbody>\n",
       "</table>\n",
       "</div>"
      ],
      "text/plain": [
       "                 Time  Precip_Irrig_h\n",
       "0 2018-05-10 00:00:00             0.0\n",
       "1 2018-05-10 01:00:00             0.0\n",
       "2 2018-05-10 02:00:00             0.0\n",
       "3 2018-05-10 03:00:00             0.0\n",
       "4 2018-05-10 04:00:00             0.0"
      ]
     },
     "execution_count": 14,
     "metadata": {},
     "output_type": "execute_result"
    }
   ],
   "source": [
    "df_hourlyH=df_hourly[['Time','Precip_Irrig_h']]\n",
    "df_hourlyH.head()"
   ]
  },
  {
   "cell_type": "code",
   "execution_count": 15,
   "metadata": {},
   "outputs": [
    {
     "data": {
      "text/html": [
       "<div>\n",
       "<style scoped>\n",
       "    .dataframe tbody tr th:only-of-type {\n",
       "        vertical-align: middle;\n",
       "    }\n",
       "\n",
       "    .dataframe tbody tr th {\n",
       "        vertical-align: top;\n",
       "    }\n",
       "\n",
       "    .dataframe thead th {\n",
       "        text-align: right;\n",
       "    }\n",
       "</style>\n",
       "<table border=\"1\" class=\"dataframe\">\n",
       "  <thead>\n",
       "    <tr style=\"text-align: right;\">\n",
       "      <th></th>\n",
       "      <th>-</th>\n",
       "      <th>Time</th>\n",
       "      <th>Precip_Irrig_h</th>\n",
       "    </tr>\n",
       "  </thead>\n",
       "  <tbody>\n",
       "    <tr>\n",
       "      <th>0</th>\n",
       "      <td>NaN</td>\n",
       "      <td>2018-05-10 00:00:00</td>\n",
       "      <td>0.0</td>\n",
       "    </tr>\n",
       "    <tr>\n",
       "      <th>1</th>\n",
       "      <td>NaN</td>\n",
       "      <td>2018-05-10 01:00:00</td>\n",
       "      <td>0.0</td>\n",
       "    </tr>\n",
       "    <tr>\n",
       "      <th>2</th>\n",
       "      <td>NaN</td>\n",
       "      <td>2018-05-10 02:00:00</td>\n",
       "      <td>0.0</td>\n",
       "    </tr>\n",
       "    <tr>\n",
       "      <th>3</th>\n",
       "      <td>NaN</td>\n",
       "      <td>2018-05-10 03:00:00</td>\n",
       "      <td>0.0</td>\n",
       "    </tr>\n",
       "    <tr>\n",
       "      <th>4</th>\n",
       "      <td>NaN</td>\n",
       "      <td>2018-05-10 04:00:00</td>\n",
       "      <td>0.0</td>\n",
       "    </tr>\n",
       "  </tbody>\n",
       "</table>\n",
       "</div>"
      ],
      "text/plain": [
       "    -                Time  Precip_Irrig_h\n",
       "0 NaN 2018-05-10 00:00:00             0.0\n",
       "1 NaN 2018-05-10 01:00:00             0.0\n",
       "2 NaN 2018-05-10 02:00:00             0.0\n",
       "3 NaN 2018-05-10 03:00:00             0.0\n",
       "4 NaN 2018-05-10 04:00:00             0.0"
      ]
     },
     "execution_count": 15,
     "metadata": {},
     "output_type": "execute_result"
    }
   ],
   "source": [
    "df_hourlyH.insert(loc=0, column='-', value=np.nan)\n",
    "df_hourlyH.head()"
   ]
  },
  {
   "cell_type": "code",
   "execution_count": 16,
   "metadata": {},
   "outputs": [
    {
     "name": "stdout",
     "output_type": "stream",
     "text": [
      "\n",
      "\n",
      "***SUCCESS writing!  Prec_Irrig_Height_hourly\n"
     ]
    }
   ],
   "source": [
    "write_timeseries_csv(df_hourlyH,'Prec_Irrig_Height_hourly',ID_basin)"
   ]
  },
  {
   "cell_type": "code",
   "execution_count": null,
   "metadata": {},
   "outputs": [],
   "source": []
  }
 ],
 "metadata": {
  "kernelspec": {
   "display_name": "Python 3",
   "language": "python",
   "name": "python3"
  },
  "language_info": {
   "codemirror_mode": {
    "name": "ipython",
    "version": 3
   },
   "file_extension": ".py",
   "mimetype": "text/x-python",
   "name": "python",
   "nbconvert_exporter": "python",
   "pygments_lexer": "ipython3",
   "version": "3.7.10"
  }
 },
 "nbformat": 4,
 "nbformat_minor": 2
}
