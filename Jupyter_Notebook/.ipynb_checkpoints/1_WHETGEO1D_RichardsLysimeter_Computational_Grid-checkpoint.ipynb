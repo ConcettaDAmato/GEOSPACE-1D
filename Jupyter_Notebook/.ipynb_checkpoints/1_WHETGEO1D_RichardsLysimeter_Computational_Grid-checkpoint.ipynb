{
 "cells": [
  {
   "cell_type": "markdown",
   "metadata": {},
   "source": [
    "# Create the grid for WHETGEO 1D Richards with Lysimeter\n",
    "    -Author: Concetta D'Amato, Niccolò Tubini and Riccardo Rigon\n",
    "    -License: this work is licensed under a Creative Commons Attribution-NonCommercial 4.0 International License\n",
    "-----\n",
    "This code allows to create a mesh for 1D PDE problem:\n",
    "    - domain discretization\n",
    "    - setting parameters\n",
    "    - setting initial condition\n",
    "    \n",
    "All output data are stored in a NetCDF file.\n",
    "This file is one of the input file of your simulation.\n"
   ]
  },
  {
   "cell_type": "code",
   "execution_count": 26,
   "metadata": {},
   "outputs": [
    {
     "name": "stdout",
     "output_type": "stream",
     "text": [
      "The autoreload extension is already loaded. To reload it, use:\n",
      "  %reload_ext autoreload\n"
     ]
    }
   ],
   "source": [
    "%load_ext autoreload\n",
    "%autoreload 2\n",
    "\n",
    "import os\n",
    "import pandas as pd\n",
    "\n",
    "from WHETGEO1D_GridCreator import*\n",
    "from WHETGEO1D_toNetCDF import*\n",
    "\n",
    "import warnings\n",
    "warnings.filterwarnings('ignore')\n",
    "\n",
    "\n",
    "project_path = os.path.dirname(os.getcwd())"
   ]
  },
  {
   "cell_type": "markdown",
   "metadata": {},
   "source": [
    "\n",
    "## Define input:\n",
    "**grid_input_file_name**: name of the grid input file (.csv) with the local file path \n",
    "   \n",
    "> `/data/Grid_input/name.csv`\n",
    "\n",
    "**ic_input_file_name**: name of the initial condition input file (.csv) with the local file path \n",
    "> `/data/Grid_input/name.csv`\n",
    "\n",
    "**icRoot_input_file_name**: name of the  initial condition input file (.csv) with the local file path \n",
    "> `/data/Grid_input/name.csv`\n",
    "\n",
    "**parameter_input_file_name**: name of the parameter input file (.csv) with the local file path \n",
    ">`/data/Grid_input/name.csv`\n",
    "\n",
    "**dictionary_input_file_name**: name of the file (.csv) containing the dictionary for parameters name \n",
    ">`/data/Grid_input/name.csv`\n",
    "\n",
    "**grid_type**: string defining how to discretize the 1D domain. You can choose among:\n",
    "> `classical`\n",
    "\n",
    "> `exponential`\n",
    "\n",
    "> `mixed` \n",
    "\n",
    "\n",
    "**dz_min**: thickness of the first layer (for `exponential` and `mixed`)\n",
    "\n",
    "**dz_max**: larger thickness of the grid (for `mixed`)\n",
    "\n",
    "**b**: growth rate (for `exponential` and `mixed`)\n",
    "\n",
    "**psi_interp_model**: string defining the type of the 1D interpolation function used to define the initial condition for water suction \\[m\\]\n",
    "> https://docs.scipy.org/doc/scipy/reference/generated/scipy.interpolate.interp1d.html#scipy.interpolate.interp1d \n",
    "\n",
    "**T_interp_model**: string defining the type of the 1D interpolation function used to define the initial condition for temperature \\[K\\]\n",
    ">https://docs.scipy.org/doc/scipy/reference/generated/scipy.interpolate.interp1d.html#scipy.interpolate.interp1d \n",
    "\n",
    "**water_ponding_0**: surface water ponding \\[m\\] at time $t=0$\n",
    "\n",
    "**T_water_ponding_0**: temperature \\[K\\] of surface water ponding at time $t=0$\n",
    "\n",
    "\n",
    "<br />\n",
    "<br />\n",
    "\n",
    "**output_file_name**: name of the output file (.nc) with the local file path\n",
    ">`/data/Grid_NetCDF/name.nc`\n",
    "\n",
    "**output_title**: string containing a title for the output, it is saved within the file\n",
    "\n",
    "**output_summary**: string containing a description for the output, it is saved within the file (global metadata)\n",
    "\n",
    "**output_date**: string containing the date of file creation, optionally\n",
    "\n",
    "**output_institution**: string containing the name of whom created the file, optionally\n",
    "\n"
   ]
  },
  {
   "cell_type": "code",
   "execution_count": 27,
   "metadata": {},
   "outputs": [],
   "source": [
    "grid_input_file_name = project_path + \"/data/RichardMeshGen_input/grid_test_2layer_root.csv\"\n",
    "\n",
    "ic_input_file_name = project_path + \"/data/RichardMeshGen_input/ic.csv\"\n",
    "\n",
    "icRoot_input_file_name = project_path + \"/data/RichardMeshGen_input/icRoot.csv\"\n",
    "\n",
    "parameter_input_file_name = project_path + \"/data/RichardMeshGen_input/RichardsLysimeter_VG.csv\"\n",
    "\n",
    "dictionary_input_file_name = project_path + \"/data/RichardMeshGen_input/dictionary.csv\"\n",
    "\n",
    "\n",
    "grid_type =   'classical' #'classical' 'exponential' 'mixed'\n",
    "\n",
    "dz_min = 0.005\n",
    "dz_max = 0.1\n",
    "b = 0.1\n",
    "\n",
    "psi_interp_model = \"linear\"\n",
    "T_interp_model = \"linear\"\n",
    "root_interp_model = \"linear\"\n",
    "\n",
    "etaR = -1\n",
    "water_ponding_0 = -3\n",
    "T_water_ponding_0 = 273.15\n",
    "\n",
    "\n",
    "output_file_name =   project_path + \"/data/Grid_NetCDF/GridTest14_4.nc\"\n",
    "output_title = '''     '''\n",
    "output_summary = '''    '''\n",
    "\n",
    "output_date = ''\n",
    "output_institution = ''"
   ]
  },
  {
   "cell_type": "markdown",
   "metadata": {},
   "source": [
    "## Run"
   ]
  },
  {
   "cell_type": "code",
   "execution_count": 28,
   "metadata": {},
   "outputs": [
    {
     "name": "stdout",
     "output_type": "stream",
     "text": [
      "  Type  eta     K  equationStateID  parameterID\n",
      "0    L    0  10.0              1.0          2.0\n",
      "1    L   -1  10.0              1.0          1.0\n",
      "2    L   -2   NaN              NaN          NaN\n",
      "   eta  Psi0      T0\n",
      "0 -0.0  -2.0  273.15\n",
      "1 -2.0   0.0  273.15\n",
      "   eta   Root0\n",
      "0 -0.0  0.3000\n",
      "1 -0.2  0.1000\n",
      "2 -0.5  0.0525\n",
      "3 -0.6  0.0942\n",
      "4 -0.7  0.0555\n",
      "5 -0.8  0.0453\n",
      "6 -0.9  0.0388\n",
      "\n",
      "    thetaS   thetaR  thetaWP  thetaFC        n  alpha  alphaSpecificStorage  \\\n",
      "0  0.36689  0.05385  0.08385  0.33689  2.54723  2.991                   0.0   \n",
      "1  0.46291  0.06707  0.09707  0.43291  1.65275  0.445                   0.0   \n",
      "2  0.48664  0.13335  0.16335  0.45664  1.34174  0.846                   0.0   \n",
      "\n",
      "   betaSpecificStorage            Ks  \n",
      "0                  0.0  5.405830e-05  \n",
      "1                  0.0  5.185210e-06  \n",
      "2                  0.0  9.732840e-07  \n",
      "\n",
      "\n",
      "***SUCCESS writing!  C:\\Users\\Concetta\\Desktop/GridLysimeterGEO/Grid_output/GridTest14_3.nc\n"
     ]
    }
   ],
   "source": [
    "data_grid = pd.read_csv(grid_input_file_name)\n",
    "print(data_grid)\n",
    "\n",
    "data_ic = pd.read_csv(ic_input_file_name)\n",
    "print(data_ic)\n",
    "\n",
    "data_icRoot = pd.read_csv(icRoot_input_file_name)\n",
    "print(data_icRoot)\n",
    "\n",
    "data_parameter = pd.read_csv(parameter_input_file_name, comment='#')\n",
    "print()\n",
    "print(data_parameter)\n",
    "\n",
    "data_dictionary = pd.read_csv(dictionary_input_file_name)\n",
    "\n",
    "[KMAX, eta, eta_dual, space_delta, z, z_dual, control_volume]=grid1D(data_grid, dz_min, b, dz_max, grid_type, shallow_water=True)\n",
    "\n",
    "[psi_0, T_0, root_0] = set_initial_condition_lysimeter(data_ic, data_icRoot, eta, psi_interp_model, T_interp_model, root_interp_model, etaR, water_ponding_0=water_ponding_0, T_water_ponding_0=T_water_ponding_0, shallow_water=True, fill_value=\"extrapolate\")\n",
    "\n",
    "control_volume_index = calibration_point_index(data_grid, eta)\n",
    "\n",
    "[equation_state_ID, parameter_ID, theta_s, theta_r, theta_wp, theta_fc, par_1, par_2, par_3, par_4,\n",
    "par_5, alpha_ss, beta_ss, ks] = set_parameters_richards_lysimeter(data_grid, data_parameter, data_dictionary, KMAX, eta)\n",
    "\n",
    "write_grid_netCDF_richards_lysimeter(eta, eta_dual, z, z_dual, space_delta, control_volume, control_volume_index, psi_0, T_0, root_0, equation_state_ID, parameter_ID, KMAX,\n",
    "                  theta_s, theta_r, theta_wp, theta_fc, par_1, par_2, par_3, par_4, par_5, alpha_ss, beta_ss, ks,\n",
    "                  output_file_name, output_title, output_institution, output_summary, output_date, grid_input_file_name, parameter_input_file_name)"
   ]
  },
  {
   "cell_type": "code",
   "execution_count": 29,
   "metadata": {},
   "outputs": [],
   "source": [
    "#help(set_parameters_richards_lysimeter)"
   ]
  },
  {
   "cell_type": "code",
   "execution_count": 30,
   "metadata": {},
   "outputs": [
    {
     "data": {
      "text/plain": [
       "[<matplotlib.lines.Line2D at 0x1d19b106408>,\n",
       " <matplotlib.lines.Line2D at 0x1d19afd04c8>]"
      ]
     },
     "execution_count": 30,
     "metadata": {},
     "output_type": "execute_result"
    },
    {
     "data": {
      "image/png": "[encoded data removed]",
      "text/plain": [
       "<Figure size 432x288 with 1 Axes>"
      ]
     },
     "metadata": {
      "needs_background": "light"
     },
     "output_type": "display_data"
    }
   ],
   "source": [
    "plt.plot(data_icRoot.Root0,data_icRoot.eta, '.', root_0, eta, '.' )"
   ]
  },
  {
   "cell_type": "code",
   "execution_count": 31,
   "metadata": {},
   "outputs": [
    {
     "data": {
      "text/plain": [
       "array([0.        , 0.        , 0.        , 0.        , 0.        ,\n",
       "       0.        , 0.        , 0.        , 0.        , 0.        ,\n",
       "       0.03555   , 0.04205   , 0.0504    , 0.07485   , 0.07335   ,\n",
       "       0.06041667, 0.07625   , 0.09208333, 0.15      , 0.25      ,\n",
       "       0.        ])"
      ]
     },
     "execution_count": 31,
     "metadata": {},
     "output_type": "execute_result"
    }
   ],
   "source": [
    "root_0"
   ]
  },
  {
   "cell_type": "code",
   "execution_count": 22,
   "metadata": {},
   "outputs": [
    {
     "data": {
      "text/plain": [
       "array([1., 1., 1., 1., 1., 1., 1., 1., 1., 1., 1., 1., 1., 1., 1., 1., 1.,\n",
       "       1., 1., 1., 1., 1., 1., 1., 1., 1., 1., 1., 1., 1., 0.])"
      ]
     },
     "execution_count": 22,
     "metadata": {},
     "output_type": "execute_result"
    }
   ],
   "source": [
    "equation_state_ID"
   ]
  }
 ],
 "metadata": {
  "kernelspec": {
   "display_name": "Python 3",
   "language": "python",
   "name": "python3"
  },
  "language_info": {
   "codemirror_mode": {
    "name": "ipython",
    "version": 3
   },
   "file_extension": ".py",
   "mimetype": "text/x-python",
   "name": "python",
   "nbconvert_exporter": "python",
   "pygments_lexer": "ipython3",
   "version": "3.7.9"
  }
 },
 "nbformat": 4,
 "nbformat_minor": 2
}
