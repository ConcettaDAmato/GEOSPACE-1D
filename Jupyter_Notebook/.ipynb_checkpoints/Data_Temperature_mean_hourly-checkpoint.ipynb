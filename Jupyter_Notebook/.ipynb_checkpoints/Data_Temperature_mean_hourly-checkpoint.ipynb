{
 "cells": [
  {
   "cell_type": "markdown",
   "metadata": {},
   "source": [
    "# *Hourly Mean Temperature data*"
   ]
  },
  {
   "cell_type": "code",
   "execution_count": 1,
   "metadata": {
    "collapsed": false
   },
   "outputs": [],
   "source": [
    "import os\n",
    "from pandas import *\n",
    "import numpy as np\n",
    "import pandas as pd\n",
    "import plotly.express as px\n",
    "import matplotlib.pyplot as plt\n",
    "%matplotlib inline\n",
    "import numpy as np\n",
    "import datetime as datetime\n",
    "from timeseries_writer import *\n",
    "oms_project_path = os.getcwd()"
   ]
  },
  {
   "cell_type": "code",
   "execution_count": 5,
   "metadata": {},
   "outputs": [],
   "source": [
    "os.chdir(oms_project_path+\"/SpikeII\")\n",
    "#os.listdir()"
   ]
  },
  {
   "cell_type": "markdown",
   "metadata": {},
   "source": [
    "### Open dataset"
   ]
  },
  {
   "cell_type": "code",
   "execution_count": 7,
   "metadata": {
    "collapsed": false
   },
   "outputs": [
    {
     "data": {
      "text/html": [
       "<div>\n",
       "<style scoped>\n",
       "    .dataframe tbody tr th:only-of-type {\n",
       "        vertical-align: middle;\n",
       "    }\n",
       "\n",
       "    .dataframe tbody tr th {\n",
       "        vertical-align: top;\n",
       "    }\n",
       "\n",
       "    .dataframe thead th {\n",
       "        text-align: right;\n",
       "    }\n",
       "</style>\n",
       "<table border=\"1\" class=\"dataframe\">\n",
       "  <thead>\n",
       "    <tr style=\"text-align: right;\">\n",
       "      <th></th>\n",
       "      <th>Temp</th>\n",
       "    </tr>\n",
       "    <tr>\n",
       "      <th>Time</th>\n",
       "      <th></th>\n",
       "    </tr>\n",
       "  </thead>\n",
       "  <tbody>\n",
       "    <tr>\n",
       "      <th>2018-05-10 00:00:00</th>\n",
       "      <td>11.69</td>\n",
       "    </tr>\n",
       "    <tr>\n",
       "      <th>2018-05-10 00:15:00</th>\n",
       "      <td>11.52</td>\n",
       "    </tr>\n",
       "    <tr>\n",
       "      <th>2018-05-10 00:30:00</th>\n",
       "      <td>11.58</td>\n",
       "    </tr>\n",
       "    <tr>\n",
       "      <th>2018-05-10 00:45:00</th>\n",
       "      <td>11.72</td>\n",
       "    </tr>\n",
       "    <tr>\n",
       "      <th>2018-05-10 01:00:00</th>\n",
       "      <td>11.69</td>\n",
       "    </tr>\n",
       "    <tr>\n",
       "      <th>...</th>\n",
       "      <td>...</td>\n",
       "    </tr>\n",
       "    <tr>\n",
       "      <th>2018-07-01 22:45:00</th>\n",
       "      <td>25.04</td>\n",
       "    </tr>\n",
       "    <tr>\n",
       "      <th>2018-07-01 23:00:00</th>\n",
       "      <td>24.78</td>\n",
       "    </tr>\n",
       "    <tr>\n",
       "      <th>2018-07-01 23:15:00</th>\n",
       "      <td>24.52</td>\n",
       "    </tr>\n",
       "    <tr>\n",
       "      <th>2018-07-01 23:30:00</th>\n",
       "      <td>24.25</td>\n",
       "    </tr>\n",
       "    <tr>\n",
       "      <th>2018-07-01 23:45:00</th>\n",
       "      <td>24.06</td>\n",
       "    </tr>\n",
       "  </tbody>\n",
       "</table>\n",
       "<p>5088 rows × 1 columns</p>\n",
       "</div>"
      ],
      "text/plain": [
       "                      Temp\n",
       "Time                      \n",
       "2018-05-10 00:00:00  11.69\n",
       "2018-05-10 00:15:00  11.52\n",
       "2018-05-10 00:30:00  11.58\n",
       "2018-05-10 00:45:00  11.72\n",
       "2018-05-10 01:00:00  11.69\n",
       "...                    ...\n",
       "2018-07-01 22:45:00  25.04\n",
       "2018-07-01 23:00:00  24.78\n",
       "2018-07-01 23:15:00  24.52\n",
       "2018-07-01 23:30:00  24.25\n",
       "2018-07-01 23:45:00  24.06\n",
       "\n",
       "[5088 rows x 1 columns]"
      ]
     },
     "execution_count": 7,
     "metadata": {},
     "output_type": "execute_result"
    }
   ],
   "source": [
    "df_15min = pd.read_csv('AirTemperature15m.csv',skiprows=6,parse_dates=[1])\n",
    "df_15min = df_15min.drop(['Format'],axis=1) \n",
    "df_15min.columns = ['Time','Temp']\n",
    "df_15min.set_index('Time',inplace=True)\n",
    "df_15min"
   ]
  },
  {
   "cell_type": "markdown",
   "metadata": {},
   "source": [
    "### Extracting dataset"
   ]
  },
  {
   "cell_type": "markdown",
   "metadata": {},
   "source": [
    "If you want to select data by time, use this code"
   ]
  },
  {
   "cell_type": "markdown",
   "metadata": {},
   "source": [
    "#crei una serie temporale con le date orarie\n",
    "date_rng=pd.date_range(start='2018-05-10 00:00',end='2018-07-01 00:00',freq='1H')\n",
    "\n",
    "#crei il dataframe con le date\n",
    "df_dates = pd.DataFrame({'Time': date_rng})\n",
    "df_dates.set_index('Time',inplace=True)\n",
    "\n",
    "#estrai dal dataframe di 15 min le date che ti servono\n",
    "df_dates = df_dates.join(df_15min, how='inner')\n",
    "df_dates.head()"
   ]
  },
  {
   "cell_type": "markdown",
   "metadata": {},
   "source": [
    "If you want to create an hourly time series using the mean:"
   ]
  },
  {
   "cell_type": "code",
   "execution_count": 9,
   "metadata": {},
   "outputs": [
    {
     "data": {
      "text/html": [
       "<div>\n",
       "<style scoped>\n",
       "    .dataframe tbody tr th:only-of-type {\n",
       "        vertical-align: middle;\n",
       "    }\n",
       "\n",
       "    .dataframe tbody tr th {\n",
       "        vertical-align: top;\n",
       "    }\n",
       "\n",
       "    .dataframe thead th {\n",
       "        text-align: right;\n",
       "    }\n",
       "</style>\n",
       "<table border=\"1\" class=\"dataframe\">\n",
       "  <thead>\n",
       "    <tr style=\"text-align: right;\">\n",
       "      <th></th>\n",
       "      <th>Temp</th>\n",
       "    </tr>\n",
       "    <tr>\n",
       "      <th>Time</th>\n",
       "      <th></th>\n",
       "    </tr>\n",
       "  </thead>\n",
       "  <tbody>\n",
       "    <tr>\n",
       "      <th>2018-05-10 00:00:00</th>\n",
       "      <td>11.6275</td>\n",
       "    </tr>\n",
       "    <tr>\n",
       "      <th>2018-05-10 01:00:00</th>\n",
       "      <td>11.7950</td>\n",
       "    </tr>\n",
       "    <tr>\n",
       "      <th>2018-05-10 02:00:00</th>\n",
       "      <td>11.1975</td>\n",
       "    </tr>\n",
       "    <tr>\n",
       "      <th>2018-05-10 03:00:00</th>\n",
       "      <td>10.9350</td>\n",
       "    </tr>\n",
       "    <tr>\n",
       "      <th>2018-05-10 04:00:00</th>\n",
       "      <td>11.3400</td>\n",
       "    </tr>\n",
       "    <tr>\n",
       "      <th>...</th>\n",
       "      <td>...</td>\n",
       "    </tr>\n",
       "    <tr>\n",
       "      <th>2018-07-01 19:00:00</th>\n",
       "      <td>29.3475</td>\n",
       "    </tr>\n",
       "    <tr>\n",
       "      <th>2018-07-01 20:00:00</th>\n",
       "      <td>28.3725</td>\n",
       "    </tr>\n",
       "    <tr>\n",
       "      <th>2018-07-01 21:00:00</th>\n",
       "      <td>26.4875</td>\n",
       "    </tr>\n",
       "    <tr>\n",
       "      <th>2018-07-01 22:00:00</th>\n",
       "      <td>25.3300</td>\n",
       "    </tr>\n",
       "    <tr>\n",
       "      <th>2018-07-01 23:00:00</th>\n",
       "      <td>24.4025</td>\n",
       "    </tr>\n",
       "  </tbody>\n",
       "</table>\n",
       "<p>1272 rows × 1 columns</p>\n",
       "</div>"
      ],
      "text/plain": [
       "                        Temp\n",
       "Time                        \n",
       "2018-05-10 00:00:00  11.6275\n",
       "2018-05-10 01:00:00  11.7950\n",
       "2018-05-10 02:00:00  11.1975\n",
       "2018-05-10 03:00:00  10.9350\n",
       "2018-05-10 04:00:00  11.3400\n",
       "...                      ...\n",
       "2018-07-01 19:00:00  29.3475\n",
       "2018-07-01 20:00:00  28.3725\n",
       "2018-07-01 21:00:00  26.4875\n",
       "2018-07-01 22:00:00  25.3300\n",
       "2018-07-01 23:00:00  24.4025\n",
       "\n",
       "[1272 rows x 1 columns]"
      ]
     },
     "execution_count": 9,
     "metadata": {},
     "output_type": "execute_result"
    }
   ],
   "source": [
    "df=df_15min.resample('1H').mean()\n",
    "df"
   ]
  },
  {
   "cell_type": "code",
   "execution_count": 10,
   "metadata": {},
   "outputs": [],
   "source": [
    "ID_basin = 1"
   ]
  },
  {
   "cell_type": "code",
   "execution_count": 11,
   "metadata": {},
   "outputs": [
    {
     "data": {
      "text/html": [
       "<div>\n",
       "<style scoped>\n",
       "    .dataframe tbody tr th:only-of-type {\n",
       "        vertical-align: middle;\n",
       "    }\n",
       "\n",
       "    .dataframe tbody tr th {\n",
       "        vertical-align: top;\n",
       "    }\n",
       "\n",
       "    .dataframe thead th {\n",
       "        text-align: right;\n",
       "    }\n",
       "</style>\n",
       "<table border=\"1\" class=\"dataframe\">\n",
       "  <thead>\n",
       "    <tr style=\"text-align: right;\">\n",
       "      <th></th>\n",
       "      <th>Time</th>\n",
       "      <th>Temp</th>\n",
       "    </tr>\n",
       "  </thead>\n",
       "  <tbody>\n",
       "    <tr>\n",
       "      <th>0</th>\n",
       "      <td>2018-05-10 00:00:00</td>\n",
       "      <td>11.6275</td>\n",
       "    </tr>\n",
       "    <tr>\n",
       "      <th>1</th>\n",
       "      <td>2018-05-10 01:00:00</td>\n",
       "      <td>11.7950</td>\n",
       "    </tr>\n",
       "    <tr>\n",
       "      <th>2</th>\n",
       "      <td>2018-05-10 02:00:00</td>\n",
       "      <td>11.1975</td>\n",
       "    </tr>\n",
       "    <tr>\n",
       "      <th>3</th>\n",
       "      <td>2018-05-10 03:00:00</td>\n",
       "      <td>10.9350</td>\n",
       "    </tr>\n",
       "    <tr>\n",
       "      <th>4</th>\n",
       "      <td>2018-05-10 04:00:00</td>\n",
       "      <td>11.3400</td>\n",
       "    </tr>\n",
       "    <tr>\n",
       "      <th>...</th>\n",
       "      <td>...</td>\n",
       "      <td>...</td>\n",
       "    </tr>\n",
       "    <tr>\n",
       "      <th>1267</th>\n",
       "      <td>2018-07-01 19:00:00</td>\n",
       "      <td>29.3475</td>\n",
       "    </tr>\n",
       "    <tr>\n",
       "      <th>1268</th>\n",
       "      <td>2018-07-01 20:00:00</td>\n",
       "      <td>28.3725</td>\n",
       "    </tr>\n",
       "    <tr>\n",
       "      <th>1269</th>\n",
       "      <td>2018-07-01 21:00:00</td>\n",
       "      <td>26.4875</td>\n",
       "    </tr>\n",
       "    <tr>\n",
       "      <th>1270</th>\n",
       "      <td>2018-07-01 22:00:00</td>\n",
       "      <td>25.3300</td>\n",
       "    </tr>\n",
       "    <tr>\n",
       "      <th>1271</th>\n",
       "      <td>2018-07-01 23:00:00</td>\n",
       "      <td>24.4025</td>\n",
       "    </tr>\n",
       "  </tbody>\n",
       "</table>\n",
       "<p>1272 rows × 2 columns</p>\n",
       "</div>"
      ],
      "text/plain": [
       "                    Time     Temp\n",
       "0    2018-05-10 00:00:00  11.6275\n",
       "1    2018-05-10 01:00:00  11.7950\n",
       "2    2018-05-10 02:00:00  11.1975\n",
       "3    2018-05-10 03:00:00  10.9350\n",
       "4    2018-05-10 04:00:00  11.3400\n",
       "...                  ...      ...\n",
       "1267 2018-07-01 19:00:00  29.3475\n",
       "1268 2018-07-01 20:00:00  28.3725\n",
       "1269 2018-07-01 21:00:00  26.4875\n",
       "1270 2018-07-01 22:00:00  25.3300\n",
       "1271 2018-07-01 23:00:00  24.4025\n",
       "\n",
       "[1272 rows x 2 columns]"
      ]
     },
     "execution_count": 11,
     "metadata": {},
     "output_type": "execute_result"
    }
   ],
   "source": [
    "df.reset_index(inplace=True)\n",
    "df"
   ]
  },
  {
   "cell_type": "code",
   "execution_count": 12,
   "metadata": {},
   "outputs": [
    {
     "data": {
      "text/html": [
       "<div>\n",
       "<style scoped>\n",
       "    .dataframe tbody tr th:only-of-type {\n",
       "        vertical-align: middle;\n",
       "    }\n",
       "\n",
       "    .dataframe tbody tr th {\n",
       "        vertical-align: top;\n",
       "    }\n",
       "\n",
       "    .dataframe thead th {\n",
       "        text-align: right;\n",
       "    }\n",
       "</style>\n",
       "<table border=\"1\" class=\"dataframe\">\n",
       "  <thead>\n",
       "    <tr style=\"text-align: right;\">\n",
       "      <th></th>\n",
       "      <th>-</th>\n",
       "      <th>Time</th>\n",
       "      <th>Temp</th>\n",
       "    </tr>\n",
       "  </thead>\n",
       "  <tbody>\n",
       "    <tr>\n",
       "      <th>0</th>\n",
       "      <td>NaN</td>\n",
       "      <td>2018-05-10 00:00:00</td>\n",
       "      <td>11.6275</td>\n",
       "    </tr>\n",
       "    <tr>\n",
       "      <th>1</th>\n",
       "      <td>NaN</td>\n",
       "      <td>2018-05-10 01:00:00</td>\n",
       "      <td>11.7950</td>\n",
       "    </tr>\n",
       "    <tr>\n",
       "      <th>2</th>\n",
       "      <td>NaN</td>\n",
       "      <td>2018-05-10 02:00:00</td>\n",
       "      <td>11.1975</td>\n",
       "    </tr>\n",
       "    <tr>\n",
       "      <th>3</th>\n",
       "      <td>NaN</td>\n",
       "      <td>2018-05-10 03:00:00</td>\n",
       "      <td>10.9350</td>\n",
       "    </tr>\n",
       "    <tr>\n",
       "      <th>4</th>\n",
       "      <td>NaN</td>\n",
       "      <td>2018-05-10 04:00:00</td>\n",
       "      <td>11.3400</td>\n",
       "    </tr>\n",
       "  </tbody>\n",
       "</table>\n",
       "</div>"
      ],
      "text/plain": [
       "    -                Time     Temp\n",
       "0 NaN 2018-05-10 00:00:00  11.6275\n",
       "1 NaN 2018-05-10 01:00:00  11.7950\n",
       "2 NaN 2018-05-10 02:00:00  11.1975\n",
       "3 NaN 2018-05-10 03:00:00  10.9350\n",
       "4 NaN 2018-05-10 04:00:00  11.3400"
      ]
     },
     "execution_count": 12,
     "metadata": {},
     "output_type": "execute_result"
    }
   ],
   "source": [
    "df.insert(loc=0, column='-', value=np.nan)\n",
    "df.head()"
   ]
  },
  {
   "cell_type": "code",
   "execution_count": 13,
   "metadata": {},
   "outputs": [
    {
     "name": "stdout",
     "output_type": "stream",
     "text": [
      "\n",
      "\n",
      "***SUCCESS writing!  AirTemperature1h\n"
     ]
    }
   ],
   "source": [
    "write_timeseries_csv(df,'AirTemperature1h',ID_basin)"
   ]
  },
  {
   "cell_type": "code",
   "execution_count": null,
   "metadata": {},
   "outputs": [],
   "source": []
  }
 ],
 "metadata": {
  "kernelspec": {
   "display_name": "Python 3",
   "language": "python",
   "name": "python3"
  },
  "language_info": {
   "codemirror_mode": {
    "name": "ipython",
    "version": 3
   },
   "file_extension": ".py",
   "mimetype": "text/x-python",
   "name": "python",
   "nbconvert_exporter": "python",
   "pygments_lexer": "ipython3",
   "version": "3.7.10"
  }
 },
 "nbformat": 4,
 "nbformat_minor": 2
}
